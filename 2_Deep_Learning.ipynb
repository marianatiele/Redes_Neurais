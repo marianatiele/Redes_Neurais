{
  "nbformat": 4,
  "nbformat_minor": 0,
  "metadata": {
    "colab": {
      "provenance": [],
      "authorship_tag": "ABX9TyPP0702o7y5JE0uMSuRS2cR",
      "include_colab_link": true
    },
    "kernelspec": {
      "name": "python3",
      "display_name": "Python 3"
    },
    "language_info": {
      "name": "python"
    }
  },
  "cells": [
    {
      "cell_type": "markdown",
      "metadata": {
        "id": "view-in-github",
        "colab_type": "text"
      },
      "source": [
        "<a href=\"https://colab.research.google.com/github/MariaNatiele/Redes_Neurais/blob/main/2_Deep_Learning.ipynb\" target=\"_parent\"><img src=\"https://colab.research.google.com/assets/colab-badge.svg\" alt=\"Open In Colab\"/></a>"
      ]
    },
    {
      "cell_type": "markdown",
      "source": [
        "📚 Fontes\n",
        "</br>\n",
        "[Keras](https://keras.io/api/models/model_training_apis/)\n",
        "</br>\n",
        "[Sklearn](https://scikit-learn.org/stable/modules/generated/sklearn.preprocessing.LabelEncoder.html)"
      ],
      "metadata": {
        "id": "paJIwKAz1HLj"
      }
    },
    {
      "cell_type": "code",
      "execution_count": 306,
      "metadata": {
        "id": "agkLzYantD4t"
      },
      "outputs": [],
      "source": [
        "import pandas as pd\n",
        "import numpy as np\n",
        "from keras.models import Sequential\n",
        "from keras.layers import Dense\n",
        "from sklearn.metrics import confusion_matrix\n",
        "from sklearn.preprocessing import LabelEncoder, OneHotEncoder\n",
        "from sklearn.preprocessing import StandardScaler\n",
        "from sklearn.compose import make_column_transformer\n",
        "from sklearn.model_selection import train_test_split"
      ]
    },
    {
      "cell_type": "code",
      "source": [
        "dados = pd.read_csv('Credit2.csv', sep=';')"
      ],
      "metadata": {
        "id": "QRVZvT8yu2Zk"
      },
      "execution_count": 307,
      "outputs": []
    },
    {
      "cell_type": "code",
      "source": [
        "dados.shape"
      ],
      "metadata": {
        "colab": {
          "base_uri": "https://localhost:8080/"
        },
        "id": "XL6j44CPvdHE",
        "outputId": "14b9742c-add9-4cbd-da0d-a03b33f027aa"
      },
      "execution_count": 308,
      "outputs": [
        {
          "output_type": "execute_result",
          "data": {
            "text/plain": [
              "(1000, 11)"
            ]
          },
          "metadata": {},
          "execution_count": 308
        }
      ]
    },
    {
      "cell_type": "code",
      "source": [
        "dados.head(2)"
      ],
      "metadata": {
        "colab": {
          "base_uri": "https://localhost:8080/",
          "height": 149
        },
        "id": "wxmv-Rmwvef2",
        "outputId": "20146b4c-7747-4a34-d9a4-e6fa111ff15f"
      },
      "execution_count": 309,
      "outputs": [
        {
          "output_type": "execute_result",
          "data": {
            "text/plain": [
              "   ID checking_status                  credit_history  duration  \\\n",
              "0   1              <0  critical/other existing credit         6   \n",
              "1   2        0<=X<200                   existing paid        48   \n",
              "\n",
              "   credit_amount  installment_commitment  residence_since  age  \\\n",
              "0           1169                       4                4   67   \n",
              "1           5951                       2                2   22   \n",
              "\n",
              "   existing_credits  num_dependents class  \n",
              "0                 2               1  good  \n",
              "1                 1               1   bad  "
            ],
            "text/html": [
              "\n",
              "  <div id=\"df-edd2c1e8-898f-43aa-a129-27afe7a29e9c\" class=\"colab-df-container\">\n",
              "    <div>\n",
              "<style scoped>\n",
              "    .dataframe tbody tr th:only-of-type {\n",
              "        vertical-align: middle;\n",
              "    }\n",
              "\n",
              "    .dataframe tbody tr th {\n",
              "        vertical-align: top;\n",
              "    }\n",
              "\n",
              "    .dataframe thead th {\n",
              "        text-align: right;\n",
              "    }\n",
              "</style>\n",
              "<table border=\"1\" class=\"dataframe\">\n",
              "  <thead>\n",
              "    <tr style=\"text-align: right;\">\n",
              "      <th></th>\n",
              "      <th>ID</th>\n",
              "      <th>checking_status</th>\n",
              "      <th>credit_history</th>\n",
              "      <th>duration</th>\n",
              "      <th>credit_amount</th>\n",
              "      <th>installment_commitment</th>\n",
              "      <th>residence_since</th>\n",
              "      <th>age</th>\n",
              "      <th>existing_credits</th>\n",
              "      <th>num_dependents</th>\n",
              "      <th>class</th>\n",
              "    </tr>\n",
              "  </thead>\n",
              "  <tbody>\n",
              "    <tr>\n",
              "      <th>0</th>\n",
              "      <td>1</td>\n",
              "      <td>&lt;0</td>\n",
              "      <td>critical/other existing credit</td>\n",
              "      <td>6</td>\n",
              "      <td>1169</td>\n",
              "      <td>4</td>\n",
              "      <td>4</td>\n",
              "      <td>67</td>\n",
              "      <td>2</td>\n",
              "      <td>1</td>\n",
              "      <td>good</td>\n",
              "    </tr>\n",
              "    <tr>\n",
              "      <th>1</th>\n",
              "      <td>2</td>\n",
              "      <td>0&lt;=X&lt;200</td>\n",
              "      <td>existing paid</td>\n",
              "      <td>48</td>\n",
              "      <td>5951</td>\n",
              "      <td>2</td>\n",
              "      <td>2</td>\n",
              "      <td>22</td>\n",
              "      <td>1</td>\n",
              "      <td>1</td>\n",
              "      <td>bad</td>\n",
              "    </tr>\n",
              "  </tbody>\n",
              "</table>\n",
              "</div>\n",
              "    <div class=\"colab-df-buttons\">\n",
              "\n",
              "  <div class=\"colab-df-container\">\n",
              "    <button class=\"colab-df-convert\" onclick=\"convertToInteractive('df-edd2c1e8-898f-43aa-a129-27afe7a29e9c')\"\n",
              "            title=\"Convert this dataframe to an interactive table.\"\n",
              "            style=\"display:none;\">\n",
              "\n",
              "  <svg xmlns=\"http://www.w3.org/2000/svg\" height=\"24px\" viewBox=\"0 -960 960 960\">\n",
              "    <path d=\"M120-120v-720h720v720H120Zm60-500h600v-160H180v160Zm220 220h160v-160H400v160Zm0 220h160v-160H400v160ZM180-400h160v-160H180v160Zm440 0h160v-160H620v160ZM180-180h160v-160H180v160Zm440 0h160v-160H620v160Z\"/>\n",
              "  </svg>\n",
              "    </button>\n",
              "\n",
              "  <style>\n",
              "    .colab-df-container {\n",
              "      display:flex;\n",
              "      gap: 12px;\n",
              "    }\n",
              "\n",
              "    .colab-df-convert {\n",
              "      background-color: #E8F0FE;\n",
              "      border: none;\n",
              "      border-radius: 50%;\n",
              "      cursor: pointer;\n",
              "      display: none;\n",
              "      fill: #1967D2;\n",
              "      height: 32px;\n",
              "      padding: 0 0 0 0;\n",
              "      width: 32px;\n",
              "    }\n",
              "\n",
              "    .colab-df-convert:hover {\n",
              "      background-color: #E2EBFA;\n",
              "      box-shadow: 0px 1px 2px rgba(60, 64, 67, 0.3), 0px 1px 3px 1px rgba(60, 64, 67, 0.15);\n",
              "      fill: #174EA6;\n",
              "    }\n",
              "\n",
              "    .colab-df-buttons div {\n",
              "      margin-bottom: 4px;\n",
              "    }\n",
              "\n",
              "    [theme=dark] .colab-df-convert {\n",
              "      background-color: #3B4455;\n",
              "      fill: #D2E3FC;\n",
              "    }\n",
              "\n",
              "    [theme=dark] .colab-df-convert:hover {\n",
              "      background-color: #434B5C;\n",
              "      box-shadow: 0px 1px 3px 1px rgba(0, 0, 0, 0.15);\n",
              "      filter: drop-shadow(0px 1px 2px rgba(0, 0, 0, 0.3));\n",
              "      fill: #FFFFFF;\n",
              "    }\n",
              "  </style>\n",
              "\n",
              "    <script>\n",
              "      const buttonEl =\n",
              "        document.querySelector('#df-edd2c1e8-898f-43aa-a129-27afe7a29e9c button.colab-df-convert');\n",
              "      buttonEl.style.display =\n",
              "        google.colab.kernel.accessAllowed ? 'block' : 'none';\n",
              "\n",
              "      async function convertToInteractive(key) {\n",
              "        const element = document.querySelector('#df-edd2c1e8-898f-43aa-a129-27afe7a29e9c');\n",
              "        const dataTable =\n",
              "          await google.colab.kernel.invokeFunction('convertToInteractive',\n",
              "                                                    [key], {});\n",
              "        if (!dataTable) return;\n",
              "\n",
              "        const docLinkHtml = 'Like what you see? Visit the ' +\n",
              "          '<a target=\"_blank\" href=https://colab.research.google.com/notebooks/data_table.ipynb>data table notebook</a>'\n",
              "          + ' to learn more about interactive tables.';\n",
              "        element.innerHTML = '';\n",
              "        dataTable['output_type'] = 'display_data';\n",
              "        await google.colab.output.renderOutput(dataTable, element);\n",
              "        const docLink = document.createElement('div');\n",
              "        docLink.innerHTML = docLinkHtml;\n",
              "        element.appendChild(docLink);\n",
              "      }\n",
              "    </script>\n",
              "  </div>\n",
              "\n",
              "\n",
              "<div id=\"df-bcb66833-a17f-4226-a977-311225494db2\">\n",
              "  <button class=\"colab-df-quickchart\" onclick=\"quickchart('df-bcb66833-a17f-4226-a977-311225494db2')\"\n",
              "            title=\"Suggest charts.\"\n",
              "            style=\"display:none;\">\n",
              "\n",
              "<svg xmlns=\"http://www.w3.org/2000/svg\" height=\"24px\"viewBox=\"0 0 24 24\"\n",
              "     width=\"24px\">\n",
              "    <g>\n",
              "        <path d=\"M19 3H5c-1.1 0-2 .9-2 2v14c0 1.1.9 2 2 2h14c1.1 0 2-.9 2-2V5c0-1.1-.9-2-2-2zM9 17H7v-7h2v7zm4 0h-2V7h2v10zm4 0h-2v-4h2v4z\"/>\n",
              "    </g>\n",
              "</svg>\n",
              "  </button>\n",
              "\n",
              "<style>\n",
              "  .colab-df-quickchart {\n",
              "      --bg-color: #E8F0FE;\n",
              "      --fill-color: #1967D2;\n",
              "      --hover-bg-color: #E2EBFA;\n",
              "      --hover-fill-color: #174EA6;\n",
              "      --disabled-fill-color: #AAA;\n",
              "      --disabled-bg-color: #DDD;\n",
              "  }\n",
              "\n",
              "  [theme=dark] .colab-df-quickchart {\n",
              "      --bg-color: #3B4455;\n",
              "      --fill-color: #D2E3FC;\n",
              "      --hover-bg-color: #434B5C;\n",
              "      --hover-fill-color: #FFFFFF;\n",
              "      --disabled-bg-color: #3B4455;\n",
              "      --disabled-fill-color: #666;\n",
              "  }\n",
              "\n",
              "  .colab-df-quickchart {\n",
              "    background-color: var(--bg-color);\n",
              "    border: none;\n",
              "    border-radius: 50%;\n",
              "    cursor: pointer;\n",
              "    display: none;\n",
              "    fill: var(--fill-color);\n",
              "    height: 32px;\n",
              "    padding: 0;\n",
              "    width: 32px;\n",
              "  }\n",
              "\n",
              "  .colab-df-quickchart:hover {\n",
              "    background-color: var(--hover-bg-color);\n",
              "    box-shadow: 0 1px 2px rgba(60, 64, 67, 0.3), 0 1px 3px 1px rgba(60, 64, 67, 0.15);\n",
              "    fill: var(--button-hover-fill-color);\n",
              "  }\n",
              "\n",
              "  .colab-df-quickchart-complete:disabled,\n",
              "  .colab-df-quickchart-complete:disabled:hover {\n",
              "    background-color: var(--disabled-bg-color);\n",
              "    fill: var(--disabled-fill-color);\n",
              "    box-shadow: none;\n",
              "  }\n",
              "\n",
              "  .colab-df-spinner {\n",
              "    border: 2px solid var(--fill-color);\n",
              "    border-color: transparent;\n",
              "    border-bottom-color: var(--fill-color);\n",
              "    animation:\n",
              "      spin 1s steps(1) infinite;\n",
              "  }\n",
              "\n",
              "  @keyframes spin {\n",
              "    0% {\n",
              "      border-color: transparent;\n",
              "      border-bottom-color: var(--fill-color);\n",
              "      border-left-color: var(--fill-color);\n",
              "    }\n",
              "    20% {\n",
              "      border-color: transparent;\n",
              "      border-left-color: var(--fill-color);\n",
              "      border-top-color: var(--fill-color);\n",
              "    }\n",
              "    30% {\n",
              "      border-color: transparent;\n",
              "      border-left-color: var(--fill-color);\n",
              "      border-top-color: var(--fill-color);\n",
              "      border-right-color: var(--fill-color);\n",
              "    }\n",
              "    40% {\n",
              "      border-color: transparent;\n",
              "      border-right-color: var(--fill-color);\n",
              "      border-top-color: var(--fill-color);\n",
              "    }\n",
              "    60% {\n",
              "      border-color: transparent;\n",
              "      border-right-color: var(--fill-color);\n",
              "    }\n",
              "    80% {\n",
              "      border-color: transparent;\n",
              "      border-right-color: var(--fill-color);\n",
              "      border-bottom-color: var(--fill-color);\n",
              "    }\n",
              "    90% {\n",
              "      border-color: transparent;\n",
              "      border-bottom-color: var(--fill-color);\n",
              "    }\n",
              "  }\n",
              "</style>\n",
              "\n",
              "  <script>\n",
              "    async function quickchart(key) {\n",
              "      const quickchartButtonEl =\n",
              "        document.querySelector('#' + key + ' button');\n",
              "      quickchartButtonEl.disabled = true;  // To prevent multiple clicks.\n",
              "      quickchartButtonEl.classList.add('colab-df-spinner');\n",
              "      try {\n",
              "        const charts = await google.colab.kernel.invokeFunction(\n",
              "            'suggestCharts', [key], {});\n",
              "      } catch (error) {\n",
              "        console.error('Error during call to suggestCharts:', error);\n",
              "      }\n",
              "      quickchartButtonEl.classList.remove('colab-df-spinner');\n",
              "      quickchartButtonEl.classList.add('colab-df-quickchart-complete');\n",
              "    }\n",
              "    (() => {\n",
              "      let quickchartButtonEl =\n",
              "        document.querySelector('#df-bcb66833-a17f-4226-a977-311225494db2 button');\n",
              "      quickchartButtonEl.style.display =\n",
              "        google.colab.kernel.accessAllowed ? 'block' : 'none';\n",
              "    })();\n",
              "  </script>\n",
              "</div>\n",
              "    </div>\n",
              "  </div>\n"
            ]
          },
          "metadata": {},
          "execution_count": 309
        }
      ]
    },
    {
      "cell_type": "code",
      "source": [
        "#Separação das variaves dependente(Y) independente (X)\n",
        "x = dados.iloc[:,1:10].values\n",
        "y = dados.iloc[:,10].values\n"
      ],
      "metadata": {
        "id": "GyoqIEQ-veix"
      },
      "execution_count": 310,
      "outputs": []
    },
    {
      "cell_type": "code",
      "source": [
        "#ignora a primera e a última, x se torna um array e não mais um dataframe\n",
        "x"
      ],
      "metadata": {
        "colab": {
          "base_uri": "https://localhost:8080/"
        },
        "id": "-8Y9EXfEveln",
        "outputId": "f1f0d3b2-4d5d-46b0-9ec2-558633aec212"
      },
      "execution_count": 311,
      "outputs": [
        {
          "output_type": "execute_result",
          "data": {
            "text/plain": [
              "array([['<0', 'critical/other existing credit', 6, ..., 67, 2, 1],\n",
              "       ['0<=X<200', 'existing paid', 48, ..., 22, 1, 1],\n",
              "       ['no checking', 'critical/other existing credit', 12, ..., 49, 1,\n",
              "        2],\n",
              "       ...,\n",
              "       ['no checking', 'existing paid', 12, ..., 38, 1, 1],\n",
              "       ['<0', 'existing paid', 45, ..., 23, 1, 1],\n",
              "       ['0<=X<200', 'critical/other existing credit', 45, ..., 27, 1, 1]],\n",
              "      dtype=object)"
            ]
          },
          "metadata": {},
          "execution_count": 311
        }
      ]
    },
    {
      "cell_type": "markdown",
      "source": [
        "Transformação das categorias \tchecking_status\t e credit_history usando o LabelEncoder e o OneHotEncoder"
      ],
      "metadata": {
        "id": "pg89ATp-ZrSN"
      }
    },
    {
      "cell_type": "code",
      "source": [
        "#LabelEncoder coluna checking_status\n",
        "#Atribui valores de 0 a 3\n",
        "labelencoder = LabelEncoder()\n",
        "x[:,0] = labelencoder.fit_transform(x[:,0])\n",
        "x"
      ],
      "metadata": {
        "colab": {
          "base_uri": "https://localhost:8080/"
        },
        "id": "3Gk6rM-f_V48",
        "outputId": "34f57ab9-9f1a-40f3-8a54-321a7a026454"
      },
      "execution_count": 312,
      "outputs": [
        {
          "output_type": "execute_result",
          "data": {
            "text/plain": [
              "array([[1, 'critical/other existing credit', 6, ..., 67, 2, 1],\n",
              "       [0, 'existing paid', 48, ..., 22, 1, 1],\n",
              "       [3, 'critical/other existing credit', 12, ..., 49, 1, 2],\n",
              "       ...,\n",
              "       [3, 'existing paid', 12, ..., 38, 1, 1],\n",
              "       [1, 'existing paid', 45, ..., 23, 1, 1],\n",
              "       [0, 'critical/other existing credit', 45, ..., 27, 1, 1]],\n",
              "      dtype=object)"
            ]
          },
          "metadata": {},
          "execution_count": 312
        }
      ]
    },
    {
      "cell_type": "code",
      "source": [
        "#one hot encoder coluna credit_history\n",
        "#Deve adicionar 5 colunas, não temos mais valor categórico apenas numérico, coluna -> [1]\n",
        "onehotencoder = make_column_transformer((OneHotEncoder(categories='auto', sparse_output=False), [1]), remainder='passthrough')\n",
        "\n",
        "x = onehotencoder.fit_transform(x)\n",
        "x"
      ],
      "metadata": {
        "colab": {
          "base_uri": "https://localhost:8080/"
        },
        "id": "DdOPCk3Tveo_",
        "outputId": "b76ae6e9-8920-4540-cf55-01b442cf91ab"
      },
      "execution_count": 313,
      "outputs": [
        {
          "output_type": "execute_result",
          "data": {
            "text/plain": [
              "array([[0.0, 1.0, 0.0, ..., 67, 2, 1],\n",
              "       [0.0, 0.0, 0.0, ..., 22, 1, 1],\n",
              "       [0.0, 1.0, 0.0, ..., 49, 1, 2],\n",
              "       ...,\n",
              "       [0.0, 0.0, 0.0, ..., 38, 1, 1],\n",
              "       [0.0, 0.0, 0.0, ..., 23, 1, 1],\n",
              "       [0.0, 1.0, 0.0, ..., 27, 1, 1]], dtype=object)"
            ]
          },
          "metadata": {},
          "execution_count": 313
        }
      ]
    },
    {
      "cell_type": "code",
      "source": [
        "#Excluindo uma das variaveis para evitar o dummy variable trop\n",
        "x = x[:,1:]\n",
        "x"
      ],
      "metadata": {
        "colab": {
          "base_uri": "https://localhost:8080/"
        },
        "id": "Z0Ac2-QZ_WCP",
        "outputId": "d7099586-5298-4107-f2a1-106281dc98b3"
      },
      "execution_count": 314,
      "outputs": [
        {
          "output_type": "execute_result",
          "data": {
            "text/plain": [
              "array([[1.0, 0.0, 0.0, ..., 67, 2, 1],\n",
              "       [0.0, 0.0, 1.0, ..., 22, 1, 1],\n",
              "       [1.0, 0.0, 0.0, ..., 49, 1, 2],\n",
              "       ...,\n",
              "       [0.0, 0.0, 1.0, ..., 38, 1, 1],\n",
              "       [0.0, 0.0, 1.0, ..., 23, 1, 1],\n",
              "       [1.0, 0.0, 0.0, ..., 27, 1, 1]], dtype=object)"
            ]
          },
          "metadata": {},
          "execution_count": 314
        }
      ]
    },
    {
      "cell_type": "code",
      "source": [
        "#Label encoder com a classe, transfroma dados categóricos em numericos -> os 'good' em 0 e 1\n",
        "labelencoderY= LabelEncoder()\n",
        "y = labelencoderY.fit_transform(y)\n",
        "y"
      ],
      "metadata": {
        "colab": {
          "base_uri": "https://localhost:8080/"
        },
        "id": "EHRyV_vwHp70",
        "outputId": "4900a226-069a-4c85-8de7-4b89b995e58f"
      },
      "execution_count": 315,
      "outputs": [
        {
          "output_type": "execute_result",
          "data": {
            "text/plain": [
              "array([1, 0, 1, 1, 0, 1, 1, 1, 1, 0, 0, 0, 1, 0, 1, 0, 1, 1, 0, 1, 1, 1,\n",
              "       1, 1, 1, 1, 1, 1, 1, 0, 1, 1, 1, 1, 1, 0, 1, 0, 1, 1, 1, 1, 1, 1,\n",
              "       0, 1, 1, 1, 1, 1, 1, 1, 1, 1, 0, 1, 0, 1, 1, 0, 1, 1, 0, 0, 1, 1,\n",
              "       1, 1, 0, 1, 1, 1, 1, 1, 0, 1, 0, 1, 1, 1, 0, 1, 1, 1, 1, 1, 1, 0,\n",
              "       1, 0, 1, 1, 0, 1, 1, 0, 1, 1, 1, 1, 1, 1, 1, 1, 1, 0, 0, 1, 1, 1,\n",
              "       1, 1, 1, 0, 1, 1, 0, 1, 0, 1, 0, 1, 1, 1, 0, 1, 1, 0, 1, 0, 1, 0,\n",
              "       1, 1, 1, 1, 1, 0, 1, 1, 1, 1, 1, 0, 1, 1, 1, 1, 1, 1, 1, 1, 1, 1,\n",
              "       1, 0, 1, 1, 1, 1, 1, 1, 1, 1, 1, 1, 0, 1, 1, 0, 0, 1, 0, 1, 0, 0,\n",
              "       1, 1, 1, 1, 0, 0, 0, 1, 0, 1, 0, 1, 0, 1, 0, 0, 0, 1, 0, 0, 1, 0,\n",
              "       1, 0, 1, 1, 1, 0, 1, 1, 1, 1, 1, 1, 1, 1, 0, 0, 1, 1, 1, 1, 1, 1,\n",
              "       1, 1, 1, 1, 1, 1, 0, 0, 0, 1, 0, 1, 1, 1, 1, 0, 0, 0, 1, 1, 0, 1,\n",
              "       0, 1, 1, 1, 1, 1, 1, 0, 1, 1, 0, 1, 1, 1, 1, 0, 1, 1, 1, 1, 1, 1,\n",
              "       1, 0, 1, 1, 0, 1, 1, 1, 1, 0, 0, 1, 1, 1, 0, 1, 1, 1, 1, 1, 1, 1,\n",
              "       1, 1, 1, 0, 1, 0, 1, 1, 1, 0, 1, 1, 1, 1, 1, 0, 0, 1, 0, 1, 1, 0,\n",
              "       0, 1, 1, 1, 1, 0, 1, 0, 1, 1, 1, 1, 0, 0, 1, 1, 1, 1, 1, 1, 1, 1,\n",
              "       1, 0, 0, 0, 0, 0, 1, 0, 1, 1, 1, 1, 1, 1, 1, 1, 1, 1, 1, 0, 1, 0,\n",
              "       1, 0, 1, 0, 1, 0, 1, 0, 1, 1, 1, 1, 0, 1, 1, 1, 0, 1, 1, 1, 1, 1,\n",
              "       0, 0, 1, 1, 0, 1, 1, 0, 1, 1, 1, 1, 1, 1, 1, 1, 1, 1, 1, 1, 1, 1,\n",
              "       1, 1, 0, 1, 1, 1, 0, 1, 1, 0, 1, 1, 1, 0, 1, 1, 0, 1, 0, 1, 0, 1,\n",
              "       1, 0, 1, 1, 1, 1, 0, 1, 1, 1, 1, 0, 1, 0, 1, 1, 1, 0, 1, 1, 1, 0,\n",
              "       1, 1, 1, 0, 0, 1, 0, 1, 1, 0, 1, 1, 1, 1, 0, 1, 1, 0, 1, 1, 1, 1,\n",
              "       1, 1, 1, 1, 0, 1, 1, 1, 0, 0, 0, 1, 0, 0, 1, 1, 1, 1, 1, 1, 1, 1,\n",
              "       1, 0, 1, 1, 1, 1, 1, 0, 1, 1, 1, 0, 0, 1, 1, 1, 0, 1, 1, 0, 0, 0,\n",
              "       1, 0, 1, 1, 0, 1, 1, 1, 1, 1, 1, 0, 1, 1, 1, 0, 0, 1, 1, 1, 1, 1,\n",
              "       0, 1, 1, 0, 1, 1, 1, 0, 1, 1, 0, 1, 0, 1, 0, 0, 1, 0, 1, 1, 0, 1,\n",
              "       1, 1, 0, 1, 1, 0, 0, 0, 0, 0, 1, 0, 1, 0, 1, 1, 0, 1, 1, 0, 0, 1,\n",
              "       1, 1, 1, 1, 1, 1, 0, 1, 0, 1, 1, 0, 1, 0, 1, 1, 0, 0, 1, 1, 1, 0,\n",
              "       0, 0, 0, 0, 0, 1, 1, 0, 0, 0, 1, 1, 1, 0, 1, 1, 0, 0, 1, 1, 0, 1,\n",
              "       1, 1, 0, 1, 1, 0, 0, 1, 0, 1, 1, 0, 1, 1, 1, 0, 1, 0, 0, 1, 1, 1,\n",
              "       1, 0, 0, 1, 0, 1, 1, 0, 1, 0, 0, 0, 1, 0, 0, 0, 1, 1, 0, 1, 1, 1,\n",
              "       1, 0, 1, 1, 1, 1, 1, 1, 0, 1, 1, 1, 1, 1, 0, 1, 1, 0, 1, 1, 1, 1,\n",
              "       1, 1, 1, 1, 1, 1, 1, 1, 1, 1, 1, 1, 1, 1, 1, 1, 1, 1, 0, 0, 1, 1,\n",
              "       1, 1, 0, 0, 1, 1, 1, 0, 1, 1, 0, 1, 1, 1, 1, 1, 0, 0, 0, 1, 0, 1,\n",
              "       1, 0, 0, 1, 1, 0, 1, 1, 1, 1, 0, 1, 1, 0, 1, 1, 1, 1, 1, 1, 1, 0,\n",
              "       1, 1, 1, 0, 1, 1, 0, 0, 1, 0, 1, 0, 1, 0, 1, 0, 1, 1, 0, 1, 1, 1,\n",
              "       1, 0, 1, 1, 1, 0, 1, 1, 1, 1, 0, 1, 1, 0, 1, 1, 1, 1, 0, 0, 0, 1,\n",
              "       1, 1, 1, 1, 0, 1, 1, 1, 1, 1, 1, 1, 1, 0, 1, 1, 1, 0, 1, 1, 0, 0,\n",
              "       0, 1, 1, 1, 1, 0, 1, 1, 0, 1, 1, 1, 0, 0, 0, 1, 1, 0, 0, 1, 0, 0,\n",
              "       1, 1, 1, 1, 0, 1, 0, 1, 1, 1, 0, 1, 1, 0, 0, 1, 1, 0, 1, 1, 1, 1,\n",
              "       0, 1, 1, 0, 0, 1, 0, 1, 1, 1, 1, 1, 1, 1, 1, 1, 1, 1, 1, 1, 0, 1,\n",
              "       1, 1, 1, 1, 0, 0, 1, 0, 1, 1, 1, 1, 1, 1, 1, 1, 1, 1, 1, 0, 0, 1,\n",
              "       1, 1, 1, 1, 1, 1, 1, 1, 1, 0, 1, 1, 0, 0, 1, 0, 0, 0, 1, 1, 0, 1,\n",
              "       0, 0, 1, 0, 1, 1, 1, 0, 1, 1, 1, 0, 0, 1, 0, 1, 1, 1, 1, 1, 1, 1,\n",
              "       0, 1, 0, 0, 1, 0, 0, 0, 1, 1, 1, 1, 0, 1, 1, 1, 1, 0, 1, 1, 0, 1,\n",
              "       1, 1, 1, 1, 0, 0, 1, 1, 1, 1, 0, 0, 0, 0, 1, 0, 1, 1, 1, 1, 1, 1,\n",
              "       1, 1, 1, 1, 1, 1, 1, 1, 0, 1])"
            ]
          },
          "metadata": {},
          "execution_count": 315
        }
      ]
    },
    {
      "cell_type": "code",
      "source": [
        "#Separação treino e teste\n",
        "x_treino, x_teste, y_treino , y_teste = train_test_split(x, y, test_size=0.2, random_state=0)\n",
        "#Tramanho de cada array\n",
        "print(len(x_treino),len(x_teste), len(y_treino), len(y_teste))"
      ],
      "metadata": {
        "colab": {
          "base_uri": "https://localhost:8080/"
        },
        "id": "29K509_2IFqx",
        "outputId": "e6ce07c7-db99-4a07-be97-fe76e4d199b6"
      },
      "execution_count": 316,
      "outputs": [
        {
          "output_type": "stream",
          "name": "stdout",
          "text": [
            "800 200 800 200\n"
          ]
        }
      ]
    },
    {
      "cell_type": "code",
      "source": [
        "print(x_teste.shape, x_treino.shape)\n",
        "print(y_teste.shape, y_treino.shape)"
      ],
      "metadata": {
        "colab": {
          "base_uri": "https://localhost:8080/"
        },
        "id": "vMX_IXAjSF_v",
        "outputId": "44774d5d-2c12-4cd7-e669-1b97c10a6ca5"
      },
      "execution_count": 317,
      "outputs": [
        {
          "output_type": "stream",
          "name": "stdout",
          "text": [
            "(200, 12) (800, 12)\n",
            "(200,) (800,)\n"
          ]
        }
      ]
    },
    {
      "cell_type": "code",
      "source": [
        "#Padronizar z-score, ultimo processo de transformção\n",
        "sc = StandardScaler()\n",
        "x_treino = sc.fit_transform(x_treino)\n",
        "x_teste = sc.transform(x_teste)\n",
        "x_teste"
      ],
      "metadata": {
        "colab": {
          "base_uri": "https://localhost:8080/"
        },
        "id": "kFggnozPJ6Ju",
        "outputId": "2f9ba98b-df8a-4deb-c8b9-0dfb5f430cb6"
      },
      "execution_count": 318,
      "outputs": [
        {
          "output_type": "execute_result",
          "data": {
            "text/plain": [
              "array([[-0.65270587, -0.30966177,  0.95357636, ..., -0.50870719,\n",
              "        -0.71596668, -0.42214126],\n",
              "       [-0.65270587, -0.30966177,  0.95357636, ..., -0.85315557,\n",
              "        -0.71596668,  2.36887531],\n",
              "       [-0.65270587, -0.30966177,  0.95357636, ...,  0.61075002,\n",
              "        -0.71596668, -0.42214126],\n",
              "       ...,\n",
              "       [ 1.53208366, -0.30966177, -1.04868371, ...,  0.26630165,\n",
              "         1.04100677, -0.42214126],\n",
              "       [-0.65270587,  3.22932987, -1.04868371, ...,  0.52463793,\n",
              "         4.55495365, -0.42214126],\n",
              "       [-0.65270587, -0.30966177,  0.95357636, ...,  0.52463793,\n",
              "        -0.71596668,  2.36887531]])"
            ]
          },
          "metadata": {},
          "execution_count": 318
        }
      ]
    },
    {
      "cell_type": "code",
      "source": [
        "#Criando a rede\n",
        "rede = Sequential()\n",
        "#Camada de entrada\n",
        "rede.add(Dense(units= 6, kernel_initializer='uniform', activation='relu', input_dim = 12))\n",
        "\n",
        "rede.add(Dense(units= 6, kernel_initializer='uniform', activation='relu'))\n",
        "#Camada de saída\n",
        "rede.add(Dense(units= 1, kernel_initializer='uniform', activation='sigmoid'))\n",
        "\n",
        "rede.compile(optimizer='adam', loss='binary_crossentropy', metrics=['accuracy'])"
      ],
      "metadata": {
        "id": "3mFub6DIJ6U6"
      },
      "execution_count": 319,
      "outputs": []
    },
    {
      "cell_type": "code",
      "source": [
        "#treinando a Rede\n",
        "rede.fit(x_treino, y_treino, batch_size=10, epochs=100)"
      ],
      "metadata": {
        "colab": {
          "base_uri": "https://localhost:8080/"
        },
        "id": "wwNgYbRVNes6",
        "outputId": "55971002-433c-4fdc-baa6-9dfc404c76e5"
      },
      "execution_count": 320,
      "outputs": [
        {
          "output_type": "stream",
          "name": "stdout",
          "text": [
            "Epoch 1/100\n",
            "80/80 [==============================] - 1s 1ms/step - loss: 0.6861 - accuracy: 0.6900\n",
            "Epoch 2/100\n",
            "80/80 [==============================] - 0s 1ms/step - loss: 0.6555 - accuracy: 0.6975\n",
            "Epoch 3/100\n",
            "80/80 [==============================] - 0s 1ms/step - loss: 0.5937 - accuracy: 0.6975\n",
            "Epoch 4/100\n",
            "80/80 [==============================] - 0s 1ms/step - loss: 0.5478 - accuracy: 0.6975\n",
            "Epoch 5/100\n",
            "80/80 [==============================] - 0s 1ms/step - loss: 0.5322 - accuracy: 0.7163\n",
            "Epoch 6/100\n",
            "80/80 [==============================] - 0s 1ms/step - loss: 0.5240 - accuracy: 0.7350\n",
            "Epoch 7/100\n",
            "80/80 [==============================] - 0s 1ms/step - loss: 0.5194 - accuracy: 0.7400\n",
            "Epoch 8/100\n",
            "80/80 [==============================] - 0s 1ms/step - loss: 0.5154 - accuracy: 0.7412\n",
            "Epoch 9/100\n",
            "80/80 [==============================] - 0s 1ms/step - loss: 0.5133 - accuracy: 0.7462\n",
            "Epoch 10/100\n",
            "80/80 [==============================] - 0s 999us/step - loss: 0.5113 - accuracy: 0.7425\n",
            "Epoch 11/100\n",
            "80/80 [==============================] - 0s 1ms/step - loss: 0.5102 - accuracy: 0.7412\n",
            "Epoch 12/100\n",
            "80/80 [==============================] - 0s 1ms/step - loss: 0.5095 - accuracy: 0.7425\n",
            "Epoch 13/100\n",
            "80/80 [==============================] - 0s 1ms/step - loss: 0.5086 - accuracy: 0.7450\n",
            "Epoch 14/100\n",
            "80/80 [==============================] - 0s 1ms/step - loss: 0.5079 - accuracy: 0.7475\n",
            "Epoch 15/100\n",
            "80/80 [==============================] - 0s 1ms/step - loss: 0.5081 - accuracy: 0.7450\n",
            "Epoch 16/100\n",
            "80/80 [==============================] - 0s 1ms/step - loss: 0.5071 - accuracy: 0.7450\n",
            "Epoch 17/100\n",
            "80/80 [==============================] - 0s 1ms/step - loss: 0.5075 - accuracy: 0.7487\n",
            "Epoch 18/100\n",
            "80/80 [==============================] - 0s 991us/step - loss: 0.5070 - accuracy: 0.7487\n",
            "Epoch 19/100\n",
            "80/80 [==============================] - 0s 1ms/step - loss: 0.5059 - accuracy: 0.7487\n",
            "Epoch 20/100\n",
            "80/80 [==============================] - 0s 1ms/step - loss: 0.5061 - accuracy: 0.7462\n",
            "Epoch 21/100\n",
            "80/80 [==============================] - 0s 1ms/step - loss: 0.5052 - accuracy: 0.7462\n",
            "Epoch 22/100\n",
            "80/80 [==============================] - 0s 1ms/step - loss: 0.5055 - accuracy: 0.7450\n",
            "Epoch 23/100\n",
            "80/80 [==============================] - 0s 981us/step - loss: 0.5045 - accuracy: 0.7475\n",
            "Epoch 24/100\n",
            "80/80 [==============================] - 0s 1ms/step - loss: 0.5044 - accuracy: 0.7487\n",
            "Epoch 25/100\n",
            "80/80 [==============================] - 0s 1ms/step - loss: 0.5035 - accuracy: 0.7487\n",
            "Epoch 26/100\n",
            "80/80 [==============================] - 0s 1ms/step - loss: 0.5036 - accuracy: 0.7500\n",
            "Epoch 27/100\n",
            "80/80 [==============================] - 0s 1ms/step - loss: 0.5027 - accuracy: 0.7475\n",
            "Epoch 28/100\n",
            "80/80 [==============================] - 0s 1ms/step - loss: 0.5024 - accuracy: 0.7500\n",
            "Epoch 29/100\n",
            "80/80 [==============================] - 0s 1ms/step - loss: 0.5024 - accuracy: 0.7500\n",
            "Epoch 30/100\n",
            "80/80 [==============================] - 0s 1ms/step - loss: 0.5025 - accuracy: 0.7500\n",
            "Epoch 31/100\n",
            "80/80 [==============================] - 0s 1ms/step - loss: 0.5015 - accuracy: 0.7513\n",
            "Epoch 32/100\n",
            "80/80 [==============================] - 0s 1ms/step - loss: 0.5012 - accuracy: 0.7487\n",
            "Epoch 33/100\n",
            "80/80 [==============================] - 0s 1ms/step - loss: 0.5005 - accuracy: 0.7487\n",
            "Epoch 34/100\n",
            "80/80 [==============================] - 0s 1ms/step - loss: 0.5001 - accuracy: 0.7538\n",
            "Epoch 35/100\n",
            "80/80 [==============================] - 0s 1ms/step - loss: 0.4995 - accuracy: 0.7525\n",
            "Epoch 36/100\n",
            "80/80 [==============================] - 0s 1ms/step - loss: 0.4989 - accuracy: 0.7500\n",
            "Epoch 37/100\n",
            "80/80 [==============================] - 0s 1ms/step - loss: 0.4988 - accuracy: 0.7487\n",
            "Epoch 38/100\n",
            "80/80 [==============================] - 0s 1ms/step - loss: 0.4980 - accuracy: 0.7513\n",
            "Epoch 39/100\n",
            "80/80 [==============================] - 0s 1ms/step - loss: 0.4981 - accuracy: 0.7513\n",
            "Epoch 40/100\n",
            "80/80 [==============================] - 0s 1ms/step - loss: 0.4975 - accuracy: 0.7500\n",
            "Epoch 41/100\n",
            "80/80 [==============================] - 0s 1ms/step - loss: 0.4970 - accuracy: 0.7563\n",
            "Epoch 42/100\n",
            "80/80 [==============================] - 0s 984us/step - loss: 0.4972 - accuracy: 0.7513\n",
            "Epoch 43/100\n",
            "80/80 [==============================] - 0s 1ms/step - loss: 0.4963 - accuracy: 0.7588\n",
            "Epoch 44/100\n",
            "80/80 [==============================] - 0s 1ms/step - loss: 0.4961 - accuracy: 0.7550\n",
            "Epoch 45/100\n",
            "80/80 [==============================] - 0s 996us/step - loss: 0.4959 - accuracy: 0.7575\n",
            "Epoch 46/100\n",
            "80/80 [==============================] - 0s 1ms/step - loss: 0.4954 - accuracy: 0.7588\n",
            "Epoch 47/100\n",
            "80/80 [==============================] - 0s 996us/step - loss: 0.4951 - accuracy: 0.7588\n",
            "Epoch 48/100\n",
            "80/80 [==============================] - 0s 1ms/step - loss: 0.4947 - accuracy: 0.7613\n",
            "Epoch 49/100\n",
            "80/80 [==============================] - 0s 1ms/step - loss: 0.4945 - accuracy: 0.7613\n",
            "Epoch 50/100\n",
            "80/80 [==============================] - 0s 985us/step - loss: 0.4950 - accuracy: 0.7625\n",
            "Epoch 51/100\n",
            "80/80 [==============================] - 0s 1ms/step - loss: 0.4937 - accuracy: 0.7638\n",
            "Epoch 52/100\n",
            "80/80 [==============================] - 0s 992us/step - loss: 0.4933 - accuracy: 0.7588\n",
            "Epoch 53/100\n",
            "80/80 [==============================] - 0s 1ms/step - loss: 0.4931 - accuracy: 0.7613\n",
            "Epoch 54/100\n",
            "80/80 [==============================] - 0s 1ms/step - loss: 0.4926 - accuracy: 0.7588\n",
            "Epoch 55/100\n",
            "80/80 [==============================] - 0s 1ms/step - loss: 0.4926 - accuracy: 0.7600\n",
            "Epoch 56/100\n",
            "80/80 [==============================] - 0s 1ms/step - loss: 0.4918 - accuracy: 0.7638\n",
            "Epoch 57/100\n",
            "80/80 [==============================] - 0s 986us/step - loss: 0.4917 - accuracy: 0.7588\n",
            "Epoch 58/100\n",
            "80/80 [==============================] - 0s 994us/step - loss: 0.4905 - accuracy: 0.7600\n",
            "Epoch 59/100\n",
            "80/80 [==============================] - 0s 982us/step - loss: 0.4904 - accuracy: 0.7600\n",
            "Epoch 60/100\n",
            "80/80 [==============================] - 0s 1ms/step - loss: 0.4907 - accuracy: 0.7625\n",
            "Epoch 61/100\n",
            "80/80 [==============================] - 0s 1ms/step - loss: 0.4900 - accuracy: 0.7625\n",
            "Epoch 62/100\n",
            "80/80 [==============================] - 0s 1ms/step - loss: 0.4891 - accuracy: 0.7625\n",
            "Epoch 63/100\n",
            "80/80 [==============================] - 0s 1ms/step - loss: 0.4888 - accuracy: 0.7650\n",
            "Epoch 64/100\n",
            "80/80 [==============================] - 0s 1ms/step - loss: 0.4888 - accuracy: 0.7638\n",
            "Epoch 65/100\n",
            "80/80 [==============================] - 0s 1ms/step - loss: 0.4883 - accuracy: 0.7700\n",
            "Epoch 66/100\n",
            "80/80 [==============================] - 0s 965us/step - loss: 0.4876 - accuracy: 0.7625\n",
            "Epoch 67/100\n",
            "80/80 [==============================] - 0s 1ms/step - loss: 0.4866 - accuracy: 0.7650\n",
            "Epoch 68/100\n",
            "80/80 [==============================] - 0s 1ms/step - loss: 0.4872 - accuracy: 0.7663\n",
            "Epoch 69/100\n",
            "80/80 [==============================] - 0s 1ms/step - loss: 0.4865 - accuracy: 0.7663\n",
            "Epoch 70/100\n",
            "80/80 [==============================] - 0s 1ms/step - loss: 0.4859 - accuracy: 0.7650\n",
            "Epoch 71/100\n",
            "80/80 [==============================] - 0s 1ms/step - loss: 0.4856 - accuracy: 0.7675\n",
            "Epoch 72/100\n",
            "80/80 [==============================] - 0s 1ms/step - loss: 0.4855 - accuracy: 0.7663\n",
            "Epoch 73/100\n",
            "80/80 [==============================] - 0s 999us/step - loss: 0.4853 - accuracy: 0.7700\n",
            "Epoch 74/100\n",
            "80/80 [==============================] - 0s 1ms/step - loss: 0.4845 - accuracy: 0.7663\n",
            "Epoch 75/100\n",
            "80/80 [==============================] - 0s 1ms/step - loss: 0.4845 - accuracy: 0.7663\n",
            "Epoch 76/100\n",
            "80/80 [==============================] - 0s 988us/step - loss: 0.4838 - accuracy: 0.7675\n",
            "Epoch 77/100\n",
            "80/80 [==============================] - 0s 990us/step - loss: 0.4829 - accuracy: 0.7600\n",
            "Epoch 78/100\n",
            "80/80 [==============================] - 0s 1ms/step - loss: 0.4829 - accuracy: 0.7663\n",
            "Epoch 79/100\n",
            "80/80 [==============================] - 0s 1ms/step - loss: 0.4820 - accuracy: 0.7675\n",
            "Epoch 80/100\n",
            "80/80 [==============================] - 0s 967us/step - loss: 0.4817 - accuracy: 0.7700\n",
            "Epoch 81/100\n",
            "80/80 [==============================] - 0s 988us/step - loss: 0.4814 - accuracy: 0.7700\n",
            "Epoch 82/100\n",
            "80/80 [==============================] - 0s 1ms/step - loss: 0.4807 - accuracy: 0.7675\n",
            "Epoch 83/100\n",
            "80/80 [==============================] - 0s 1ms/step - loss: 0.4805 - accuracy: 0.7650\n",
            "Epoch 84/100\n",
            "80/80 [==============================] - 0s 1ms/step - loss: 0.4798 - accuracy: 0.7688\n",
            "Epoch 85/100\n",
            "80/80 [==============================] - 0s 1ms/step - loss: 0.4794 - accuracy: 0.7688\n",
            "Epoch 86/100\n",
            "80/80 [==============================] - 0s 1ms/step - loss: 0.4799 - accuracy: 0.7625\n",
            "Epoch 87/100\n",
            "80/80 [==============================] - 0s 1ms/step - loss: 0.4784 - accuracy: 0.7663\n",
            "Epoch 88/100\n",
            "80/80 [==============================] - 0s 1ms/step - loss: 0.4791 - accuracy: 0.7638\n",
            "Epoch 89/100\n",
            "80/80 [==============================] - 0s 1ms/step - loss: 0.4780 - accuracy: 0.7675\n",
            "Epoch 90/100\n",
            "80/80 [==============================] - 0s 1ms/step - loss: 0.4775 - accuracy: 0.7688\n",
            "Epoch 91/100\n",
            "80/80 [==============================] - 0s 1ms/step - loss: 0.4775 - accuracy: 0.7650\n",
            "Epoch 92/100\n",
            "80/80 [==============================] - 0s 1ms/step - loss: 0.4771 - accuracy: 0.7625\n",
            "Epoch 93/100\n",
            "80/80 [==============================] - 0s 1ms/step - loss: 0.4768 - accuracy: 0.7688\n",
            "Epoch 94/100\n",
            "80/80 [==============================] - 0s 1ms/step - loss: 0.4767 - accuracy: 0.7625\n",
            "Epoch 95/100\n",
            "80/80 [==============================] - 0s 1ms/step - loss: 0.4766 - accuracy: 0.7663\n",
            "Epoch 96/100\n",
            "80/80 [==============================] - 0s 964us/step - loss: 0.4760 - accuracy: 0.7663\n",
            "Epoch 97/100\n",
            "80/80 [==============================] - 0s 974us/step - loss: 0.4766 - accuracy: 0.7675\n",
            "Epoch 98/100\n",
            "80/80 [==============================] - 0s 1ms/step - loss: 0.4758 - accuracy: 0.7638\n",
            "Epoch 99/100\n",
            "80/80 [==============================] - 0s 1ms/step - loss: 0.4761 - accuracy: 0.7688\n",
            "Epoch 100/100\n",
            "80/80 [==============================] - 0s 1ms/step - loss: 0.4754 - accuracy: 0.7675\n"
          ]
        },
        {
          "output_type": "execute_result",
          "data": {
            "text/plain": [
              "<keras.callbacks.History at 0x7b657c132140>"
            ]
          },
          "metadata": {},
          "execution_count": 320
        }
      ]
    },
    {
      "cell_type": "code",
      "source": [
        "pred = rede.predict(x_teste)\n",
        "pred = (pred > 0.5)\n",
        "pred"
      ],
      "metadata": {
        "colab": {
          "base_uri": "https://localhost:8080/"
        },
        "id": "kKNavDM8Nevv",
        "outputId": "5d1bfb86-c4aa-489b-c4f5-5099833c26de"
      },
      "execution_count": 321,
      "outputs": [
        {
          "output_type": "stream",
          "name": "stdout",
          "text": [
            "7/7 [==============================] - 0s 1ms/step\n"
          ]
        },
        {
          "output_type": "execute_result",
          "data": {
            "text/plain": [
              "array([[False],\n",
              "       [ True],\n",
              "       [ True],\n",
              "       [ True],\n",
              "       [ True],\n",
              "       [ True],\n",
              "       [ True],\n",
              "       [ True],\n",
              "       [ True],\n",
              "       [False],\n",
              "       [False],\n",
              "       [False],\n",
              "       [ True],\n",
              "       [ True],\n",
              "       [False],\n",
              "       [ True],\n",
              "       [ True],\n",
              "       [ True],\n",
              "       [ True],\n",
              "       [ True],\n",
              "       [ True],\n",
              "       [ True],\n",
              "       [False],\n",
              "       [ True],\n",
              "       [ True],\n",
              "       [ True],\n",
              "       [ True],\n",
              "       [ True],\n",
              "       [ True],\n",
              "       [False],\n",
              "       [ True],\n",
              "       [ True],\n",
              "       [ True],\n",
              "       [ True],\n",
              "       [ True],\n",
              "       [ True],\n",
              "       [ True],\n",
              "       [ True],\n",
              "       [ True],\n",
              "       [ True],\n",
              "       [ True],\n",
              "       [False],\n",
              "       [ True],\n",
              "       [ True],\n",
              "       [ True],\n",
              "       [ True],\n",
              "       [ True],\n",
              "       [False],\n",
              "       [ True],\n",
              "       [ True],\n",
              "       [ True],\n",
              "       [False],\n",
              "       [ True],\n",
              "       [ True],\n",
              "       [False],\n",
              "       [ True],\n",
              "       [False],\n",
              "       [ True],\n",
              "       [ True],\n",
              "       [ True],\n",
              "       [False],\n",
              "       [ True],\n",
              "       [False],\n",
              "       [ True],\n",
              "       [ True],\n",
              "       [ True],\n",
              "       [ True],\n",
              "       [ True],\n",
              "       [False],\n",
              "       [ True],\n",
              "       [ True],\n",
              "       [ True],\n",
              "       [False],\n",
              "       [ True],\n",
              "       [ True],\n",
              "       [ True],\n",
              "       [ True],\n",
              "       [ True],\n",
              "       [ True],\n",
              "       [ True],\n",
              "       [ True],\n",
              "       [ True],\n",
              "       [ True],\n",
              "       [ True],\n",
              "       [ True],\n",
              "       [ True],\n",
              "       [ True],\n",
              "       [False],\n",
              "       [ True],\n",
              "       [ True],\n",
              "       [ True],\n",
              "       [ True],\n",
              "       [ True],\n",
              "       [ True],\n",
              "       [ True],\n",
              "       [ True],\n",
              "       [False],\n",
              "       [ True],\n",
              "       [ True],\n",
              "       [ True],\n",
              "       [ True],\n",
              "       [ True],\n",
              "       [False],\n",
              "       [ True],\n",
              "       [ True],\n",
              "       [ True],\n",
              "       [False],\n",
              "       [False],\n",
              "       [False],\n",
              "       [ True],\n",
              "       [False],\n",
              "       [False],\n",
              "       [ True],\n",
              "       [ True],\n",
              "       [ True],\n",
              "       [ True],\n",
              "       [ True],\n",
              "       [ True],\n",
              "       [ True],\n",
              "       [ True],\n",
              "       [False],\n",
              "       [ True],\n",
              "       [ True],\n",
              "       [False],\n",
              "       [ True],\n",
              "       [ True],\n",
              "       [ True],\n",
              "       [ True],\n",
              "       [ True],\n",
              "       [ True],\n",
              "       [ True],\n",
              "       [ True],\n",
              "       [False],\n",
              "       [ True],\n",
              "       [ True],\n",
              "       [ True],\n",
              "       [ True],\n",
              "       [ True],\n",
              "       [ True],\n",
              "       [False],\n",
              "       [False],\n",
              "       [False],\n",
              "       [ True],\n",
              "       [ True],\n",
              "       [ True],\n",
              "       [ True],\n",
              "       [ True],\n",
              "       [ True],\n",
              "       [ True],\n",
              "       [ True],\n",
              "       [ True],\n",
              "       [ True],\n",
              "       [ True],\n",
              "       [ True],\n",
              "       [ True],\n",
              "       [ True],\n",
              "       [ True],\n",
              "       [ True],\n",
              "       [ True],\n",
              "       [ True],\n",
              "       [ True],\n",
              "       [False],\n",
              "       [ True],\n",
              "       [ True],\n",
              "       [False],\n",
              "       [False],\n",
              "       [False],\n",
              "       [ True],\n",
              "       [ True],\n",
              "       [ True],\n",
              "       [False],\n",
              "       [ True],\n",
              "       [False],\n",
              "       [ True],\n",
              "       [ True],\n",
              "       [ True],\n",
              "       [False],\n",
              "       [ True],\n",
              "       [False],\n",
              "       [ True],\n",
              "       [ True],\n",
              "       [False],\n",
              "       [ True],\n",
              "       [False],\n",
              "       [ True],\n",
              "       [ True],\n",
              "       [ True],\n",
              "       [ True],\n",
              "       [ True],\n",
              "       [ True],\n",
              "       [ True],\n",
              "       [False],\n",
              "       [ True],\n",
              "       [ True],\n",
              "       [ True],\n",
              "       [ True],\n",
              "       [ True],\n",
              "       [ True],\n",
              "       [ True],\n",
              "       [ True]])"
            ]
          },
          "metadata": {},
          "execution_count": 321
        }
      ]
    },
    {
      "cell_type": "code",
      "source": [
        "#Matriz de confusao\n",
        "matriz = confusion_matrix(y_teste, pred)"
      ],
      "metadata": {
        "id": "fLgCt8kTNezE"
      },
      "execution_count": 322,
      "outputs": []
    },
    {
      "cell_type": "code",
      "source": [
        "matriz"
      ],
      "metadata": {
        "colab": {
          "base_uri": "https://localhost:8080/"
        },
        "id": "gPkKpSeVdkqy",
        "outputId": "9478074e-07ac-45b5-9e4e-7ba9c9e69f5c"
      },
      "execution_count": 323,
      "outputs": [
        {
          "output_type": "execute_result",
          "data": {
            "text/plain": [
              "array([[ 21,  37],\n",
              "       [ 20, 122]])"
            ]
          },
          "metadata": {},
          "execution_count": 323
        }
      ]
    }
  ]
}