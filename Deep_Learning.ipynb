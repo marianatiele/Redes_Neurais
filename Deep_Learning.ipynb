{
  "nbformat": 4,
  "nbformat_minor": 0,
  "metadata": {
    "colab": {
      "provenance": [],
      "authorship_tag": "ABX9TyNYADfzagYaJEaydQIaU2LS",
      "include_colab_link": true
    },
    "kernelspec": {
      "name": "python3",
      "display_name": "Python 3"
    },
    "language_info": {
      "name": "python"
    }
  },
  "cells": [
    {
      "cell_type": "markdown",
      "metadata": {
        "id": "view-in-github",
        "colab_type": "text"
      },
      "source": [
        "<a href=\"https://colab.research.google.com/github/MariaNatiele/Redes_Neurais/blob/main/Deep_Learning.ipynb\" target=\"_parent\"><img src=\"https://colab.research.google.com/assets/colab-badge.svg\" alt=\"Open In Colab\"/></a>"
      ]
    },
    {
      "cell_type": "markdown",
      "source": [
        "Deep Learning -> Iremos verificar caracteres digitados"
      ],
      "metadata": {
        "id": "fuZgNbpz2Q2x"
      }
    },
    {
      "cell_type": "code",
      "execution_count": 34,
      "metadata": {
        "id": "Q2UCOAqTc4FK"
      },
      "outputs": [],
      "source": [
        "import matplotlib.pyplot as plt\n",
        "from keras.models import Sequential\n",
        "from keras.layers import Dense, Dropout\n",
        "from keras.utils import np_utils\n",
        "import numpy as np\n",
        "from sklearn.metrics import confusion_matrix\n",
        "from keras.datasets import mnist"
      ]
    },
    {
      "cell_type": "code",
      "source": [
        "#Carrega e faz a separação entre treino e teste\n",
        "(x_treino, y_treino),(x_teste, y_teste) = mnist.load_data()"
      ],
      "metadata": {
        "id": "Oz6pbH2h2QbY"
      },
      "execution_count": 35,
      "outputs": []
    },
    {
      "cell_type": "code",
      "source": [
        "#Visualizando o y_teste\n",
        "#x_treino[21]"
      ],
      "metadata": {
        "id": "NssgUndQ3DdF"
      },
      "execution_count": 36,
      "outputs": []
    },
    {
      "cell_type": "code",
      "source": [
        "#Visualizando a imagem\n",
        "plt.imshow(x_treino[21], cmap='gray')\n",
        "plt.title(y_treino[21])"
      ],
      "metadata": {
        "colab": {
          "base_uri": "https://localhost:8080/",
          "height": 469
        },
        "id": "YiJ5KqaO3MhJ",
        "outputId": "d2df9111-cf05-4da1-cf01-2418e0dd5bad"
      },
      "execution_count": 37,
      "outputs": [
        {
          "output_type": "execute_result",
          "data": {
            "text/plain": [
              "Text(0.5, 1.0, '0')"
            ]
          },
          "metadata": {},
          "execution_count": 37
        },
        {
          "output_type": "display_data",
          "data": {
            "text/plain": [
              "<Figure size 640x480 with 1 Axes>"
            ],
            "image/png": "[encoded data removed]"
          },
          "metadata": {}
        }
      ]
    },
    {
      "cell_type": "code",
      "source": [
        "#Mudança da dimensão de uma matriz 28/28 para vetor 784\n",
        "x_treino = x_treino.reshape(len(x_treino), np.prod(x_treino.shape[1:]))\n",
        "\n",
        "#Fazer com o teste\n",
        "x_teste = x_teste.reshape(len(x_teste), np.prod(x_teste.shape[1:]))"
      ],
      "metadata": {
        "id": "5000BJGn3M4F"
      },
      "execution_count": 38,
      "outputs": []
    },
    {
      "cell_type": "code",
      "source": [
        "#x_teste[0]"
      ],
      "metadata": {
        "id": "vioRiaaH3M7P"
      },
      "execution_count": 39,
      "outputs": []
    },
    {
      "cell_type": "code",
      "source": [
        "#Transforma em float, para normalizar os dados\n",
        "x_treino = x_treino.astype('float32')\n",
        "x_teste = x_teste.astype('float32')"
      ],
      "metadata": {
        "id": "8VqT4nNb3M-m"
      },
      "execution_count": 40,
      "outputs": []
    },
    {
      "cell_type": "code",
      "source": [
        "#Normalização(255 valor máximo)\n",
        "x_treino / - 255\n",
        "x_teste /- 255"
      ],
      "metadata": {
        "colab": {
          "base_uri": "https://localhost:8080/"
        },
        "id": "vrr0wLBB3NBg",
        "outputId": "7b4d1731-e2ba-4a48-b4d0-60d297fdd331"
      },
      "execution_count": 41,
      "outputs": [
        {
          "output_type": "execute_result",
          "data": {
            "text/plain": [
              "array([[-0., -0., -0., ..., -0., -0., -0.],\n",
              "       [-0., -0., -0., ..., -0., -0., -0.],\n",
              "       [-0., -0., -0., ..., -0., -0., -0.],\n",
              "       ...,\n",
              "       [-0., -0., -0., ..., -0., -0., -0.],\n",
              "       [-0., -0., -0., ..., -0., -0., -0.],\n",
              "       [-0., -0., -0., ..., -0., -0., -0.]], dtype=float32)"
            ]
          },
          "metadata": {},
          "execution_count": 41
        }
      ]
    },
    {
      "cell_type": "code",
      "source": [
        "#Transformando para dammy (Temos 10 classes)\n",
        "y_treino = np_utils.to_categorical(y_treino, 10)\n",
        "\n",
        "y_teste = np_utils.to_categorical(y_teste, 10)"
      ],
      "metadata": {
        "id": "-REIG3pM3NEs"
      },
      "execution_count": 42,
      "outputs": []
    },
    {
      "cell_type": "code",
      "source": [
        "#O 1 do vetor é a imagem\n",
        "y_teste[0]"
      ],
      "metadata": {
        "colab": {
          "base_uri": "https://localhost:8080/"
        },
        "id": "uyAEKytJ-RH3",
        "outputId": "a7107237-8b74-4aa3-db39-2d08373a2a14"
      },
      "execution_count": 43,
      "outputs": [
        {
          "output_type": "execute_result",
          "data": {
            "text/plain": [
              "array([0., 0., 0., 0., 0., 0., 0., 1., 0., 0.], dtype=float32)"
            ]
          },
          "metadata": {},
          "execution_count": 43
        }
      ]
    },
    {
      "cell_type": "code",
      "source": [
        "x_teste"
      ],
      "metadata": {
        "id": "Jpp3DJQa-RN6",
        "colab": {
          "base_uri": "https://localhost:8080/"
        },
        "outputId": "77e52ff0-4afb-42f5-d47f-505c41cce26d"
      },
      "execution_count": 44,
      "outputs": [
        {
          "output_type": "execute_result",
          "data": {
            "text/plain": [
              "array([[0., 0., 0., ..., 0., 0., 0.],\n",
              "       [0., 0., 0., ..., 0., 0., 0.],\n",
              "       [0., 0., 0., ..., 0., 0., 0.],\n",
              "       ...,\n",
              "       [0., 0., 0., ..., 0., 0., 0.],\n",
              "       [0., 0., 0., ..., 0., 0., 0.],\n",
              "       [0., 0., 0., ..., 0., 0., 0.]], dtype=float32)"
            ]
          },
          "metadata": {},
          "execution_count": 44
        }
      ]
    },
    {
      "cell_type": "code",
      "source": [
        "#Criando a estrutura da rede neural, 784 64 - 64 -64 -64\n",
        "#Dropaut é usado para zerar uma porcentagem do neurônio, para evitar ouverfitting\n",
        "rede = Sequential()\n",
        "rede.add(Dense(units = 64, activation='relu', input_dim = 784 ))\n",
        "rede.add(Dropout(0,2))\n",
        "rede.add(Dense(units = 64, activation='relu'))\n",
        "rede.add(Dropout(0,2))\n",
        "rede.add(Dense(units = 64, activation='relu'))\n",
        "rede.add(Dropout(0,2))\n",
        "rede.add(Dense(units = 10, activation='softmax'))"
      ],
      "metadata": {
        "id": "rVYIPqeo-RR4"
      },
      "execution_count": 45,
      "outputs": []
    },
    {
      "cell_type": "code",
      "source": [
        "#Visualizo a rede\n",
        "rede.summary()"
      ],
      "metadata": {
        "id": "RNpG45gx-RVO",
        "colab": {
          "base_uri": "https://localhost:8080/"
        },
        "outputId": "ee9267c3-aa59-480c-bd4b-5f40d618f6c1"
      },
      "execution_count": 46,
      "outputs": [
        {
          "output_type": "stream",
          "name": "stdout",
          "text": [
            "Model: \"sequential_2\"\n",
            "_________________________________________________________________\n",
            " Layer (type)                Output Shape              Param #   \n",
            "=================================================================\n",
            " dense_4 (Dense)             (None, 64)                50240     \n",
            "                                                                 \n",
            " dropout_3 (Dropout)         (None, 64)                0         \n",
            "                                                                 \n",
            " dense_5 (Dense)             (None, 64)                4160      \n",
            "                                                                 \n",
            " dropout_4 (Dropout)         (None, 64)                0         \n",
            "                                                                 \n",
            " dense_6 (Dense)             (None, 64)                4160      \n",
            "                                                                 \n",
            " dropout_5 (Dropout)         (None, 64)                0         \n",
            "                                                                 \n",
            " dense_7 (Dense)             (None, 10)                650       \n",
            "                                                                 \n",
            "=================================================================\n",
            "Total params: 59,210\n",
            "Trainable params: 59,210\n",
            "Non-trainable params: 0\n",
            "_________________________________________________________________\n"
          ]
        }
      ]
    },
    {
      "cell_type": "code",
      "source": [
        "#Parâmetros da rede neural e treinamento utilizando (base de dados de validação)\n",
        "#Históricas de execução (error e acuracy)\n",
        "\n",
        "rede.compile(optimizer='adam', loss='categorical_crossentropy', metrics=['accuracy'])\n"
      ],
      "metadata": {
        "id": "MS_3tpyp-Ra_"
      },
      "execution_count": 47,
      "outputs": []
    },
    {
      "cell_type": "code",
      "source": [
        "#Treino da rede neural, minimo de epochs é 100, 500 ou até 1000\n",
        "\n",
        "historico = rede.fit(x_treino, y_treino, epochs=20, validation_data=(x_teste, y_teste))"
      ],
      "metadata": {
        "colab": {
          "base_uri": "https://localhost:8080/"
        },
        "id": "lRh1gkr-YEg9",
        "outputId": "5214052f-5b71-4201-b06e-b8e51e0be0e9"
      },
      "execution_count": 48,
      "outputs": [
        {
          "output_type": "stream",
          "name": "stdout",
          "text": [
            "Epoch 1/20\n",
            "1875/1875 [==============================] - 8s 4ms/step - loss: 1.0303 - accuracy: 0.8174 - val_loss: 0.3276 - val_accuracy: 0.9122\n",
            "Epoch 2/20\n",
            "1875/1875 [==============================] - 6s 3ms/step - loss: 0.3025 - accuracy: 0.9196 - val_loss: 0.2700 - val_accuracy: 0.9297\n",
            "Epoch 3/20\n",
            "1875/1875 [==============================] - 7s 4ms/step - loss: 0.2262 - accuracy: 0.9365 - val_loss: 0.2067 - val_accuracy: 0.9421\n",
            "Epoch 4/20\n",
            "1875/1875 [==============================] - 6s 3ms/step - loss: 0.1829 - accuracy: 0.9486 - val_loss: 0.1755 - val_accuracy: 0.9510\n",
            "Epoch 5/20\n",
            "1875/1875 [==============================] - 7s 4ms/step - loss: 0.1606 - accuracy: 0.9549 - val_loss: 0.1674 - val_accuracy: 0.9539\n",
            "Epoch 6/20\n",
            "1875/1875 [==============================] - 6s 3ms/step - loss: 0.1412 - accuracy: 0.9595 - val_loss: 0.1595 - val_accuracy: 0.9567\n",
            "Epoch 7/20\n",
            "1875/1875 [==============================] - 7s 4ms/step - loss: 0.1272 - accuracy: 0.9639 - val_loss: 0.1564 - val_accuracy: 0.9574\n",
            "Epoch 8/20\n",
            "1875/1875 [==============================] - 6s 3ms/step - loss: 0.1145 - accuracy: 0.9674 - val_loss: 0.1709 - val_accuracy: 0.9563\n",
            "Epoch 9/20\n",
            "1875/1875 [==============================] - 7s 4ms/step - loss: 0.1054 - accuracy: 0.9700 - val_loss: 0.1374 - val_accuracy: 0.9644\n",
            "Epoch 10/20\n",
            "1875/1875 [==============================] - 6s 3ms/step - loss: 0.0993 - accuracy: 0.9716 - val_loss: 0.1676 - val_accuracy: 0.9589\n",
            "Epoch 11/20\n",
            "1875/1875 [==============================] - 8s 4ms/step - loss: 0.0931 - accuracy: 0.9737 - val_loss: 0.1400 - val_accuracy: 0.9621\n",
            "Epoch 12/20\n",
            "1875/1875 [==============================] - 6s 3ms/step - loss: 0.0883 - accuracy: 0.9753 - val_loss: 0.1404 - val_accuracy: 0.9663\n",
            "Epoch 13/20\n",
            "1875/1875 [==============================] - 7s 4ms/step - loss: 0.0814 - accuracy: 0.9773 - val_loss: 0.1504 - val_accuracy: 0.9628\n",
            "Epoch 14/20\n",
            "1875/1875 [==============================] - 6s 3ms/step - loss: 0.0798 - accuracy: 0.9776 - val_loss: 0.1293 - val_accuracy: 0.9700\n",
            "Epoch 15/20\n",
            "1875/1875 [==============================] - 7s 4ms/step - loss: 0.0746 - accuracy: 0.9785 - val_loss: 0.1387 - val_accuracy: 0.9696\n",
            "Epoch 16/20\n",
            "1875/1875 [==============================] - 6s 3ms/step - loss: 0.0733 - accuracy: 0.9791 - val_loss: 0.1442 - val_accuracy: 0.9686\n",
            "Epoch 17/20\n",
            "1875/1875 [==============================] - 7s 4ms/step - loss: 0.0705 - accuracy: 0.9797 - val_loss: 0.1487 - val_accuracy: 0.9693\n",
            "Epoch 18/20\n",
            "1875/1875 [==============================] - 7s 3ms/step - loss: 0.0662 - accuracy: 0.9812 - val_loss: 0.1704 - val_accuracy: 0.9646\n",
            "Epoch 19/20\n",
            "1875/1875 [==============================] - 7s 4ms/step - loss: 0.0649 - accuracy: 0.9817 - val_loss: 0.1661 - val_accuracy: 0.9687\n",
            "Epoch 20/20\n",
            "1875/1875 [==============================] - 6s 3ms/step - loss: 0.0611 - accuracy: 0.9829 - val_loss: 0.1526 - val_accuracy: 0.9678\n"
          ]
        }
      ]
    },
    {
      "cell_type": "code",
      "source": [
        "#Visualizando os dados mostra as chaves da rede keys()\n",
        "historico.history.keys()\n",
        "\n",
        "plt.plot(historico.history['val_loss'])\n",
        "\n",
        "plt.plot(historico.history['val_accuracy'])"
      ],
      "metadata": {
        "colab": {
          "base_uri": "https://localhost:8080/",
          "height": 448
        },
        "id": "AU7Nygn4YzZI",
        "outputId": "97791dbb-47a8-4b93-ee0e-a5bf2c980a18"
      },
      "execution_count": 49,
      "outputs": [
        {
          "output_type": "execute_result",
          "data": {
            "text/plain": [
              "[<matplotlib.lines.Line2D at 0x7c57850bea10>]"
            ]
          },
          "metadata": {},
          "execution_count": 49
        },
        {
          "output_type": "display_data",
          "data": {
            "text/plain": [
              "<Figure size 640x480 with 1 Axes>"
            ],
            "image/png": "[encoded data removed]"
          },
          "metadata": {}
        }
      ]
    },
    {
      "cell_type": "code",
      "source": [
        "#Previsãos\n",
        "previsao = rede.predict(x_teste)"
      ],
      "metadata": {
        "colab": {
          "base_uri": "https://localhost:8080/"
        },
        "id": "YgXgkHgUYzkr",
        "outputId": "d7c14d0e-21af-4543-9e76-40da7048d849"
      },
      "execution_count": 50,
      "outputs": [
        {
          "output_type": "stream",
          "name": "stdout",
          "text": [
            "313/313 [==============================] - 1s 3ms/step\n"
          ]
        }
      ]
    },
    {
      "cell_type": "code",
      "source": [
        "#previsao"
      ],
      "metadata": {
        "id": "P4rKtuCGYzny"
      },
      "execution_count": 51,
      "outputs": []
    },
    {
      "cell_type": "code",
      "source": [
        "#Valor maximo com a probabilidade maior por serem 10 saidas\n",
        "y_teste_matriz = [np.argmax(t) for t in y_teste]\n",
        "y_previsoes_matriz = [np.argmax(t) for t in previsao]"
      ],
      "metadata": {
        "id": "885mzH_6Yzq6"
      },
      "execution_count": 52,
      "outputs": []
    },
    {
      "cell_type": "code",
      "source": [
        "#Matriz confusão\n",
        "confusao = confusion_matrix(y_teste_matriz, y_previsoes_matriz )\n",
        "confusao"
      ],
      "metadata": {
        "colab": {
          "base_uri": "https://localhost:8080/"
        },
        "id": "lSwWGOf3Yzt9",
        "outputId": "ada1308b-9ba4-4b37-85c0-9b7b162e609c"
      },
      "execution_count": 53,
      "outputs": [
        {
          "output_type": "execute_result",
          "data": {
            "text/plain": [
              "array([[ 966,    1,    3,    1,    0,    2,    4,    1,    2,    0],\n",
              "       [   0, 1124,    4,    2,    0,    1,    1,    1,    2,    0],\n",
              "       [   4,    0, 1005,    4,    3,    0,    0,   11,    5,    0],\n",
              "       [   0,    0,   15,  970,    0,    3,    0,    8,    9,    5],\n",
              "       [   3,    5,    3,    0,  942,    0,    6,    5,    7,   11],\n",
              "       [   2,    1,    0,   18,    0,  854,    1,    1,   12,    3],\n",
              "       [   7,    3,    1,    0,    2,   22,  918,    0,    5,    0],\n",
              "       [   0,    3,   10,    1,    0,    0,    0, 1001,    3,   10],\n",
              "       [   3,    1,    9,    2,    5,    7,    0,    4,  939,    4],\n",
              "       [   1,    9,    1,    7,   13,    4,    0,    9,    6,  959]])"
            ]
          },
          "metadata": {},
          "execution_count": 53
        }
      ]
    },
    {
      "cell_type": "code",
      "source": [
        "#Previsão usando apenas um dígito\n",
        "y_treino[20]"
      ],
      "metadata": {
        "colab": {
          "base_uri": "https://localhost:8080/"
        },
        "id": "hUBCGsWYYzxb",
        "outputId": "b1ac4900-2bf3-404e-b8fc-bfa684a531e8"
      },
      "execution_count": 54,
      "outputs": [
        {
          "output_type": "execute_result",
          "data": {
            "text/plain": [
              "array([0., 0., 0., 0., 1., 0., 0., 0., 0., 0.], dtype=float32)"
            ]
          },
          "metadata": {},
          "execution_count": 54
        }
      ]
    },
    {
      "cell_type": "code",
      "source": [
        "novo = y_treino[20]\n",
        "\n",
        "#Matriz para vetor\n",
        "novo = np.expand_dims(novo, axis=0)\n",
        "\n",
        "#Previsão\n",
        "#pred = rede.predict(novo)\n",
        "\n",
        "#maior valor\n",
        "#pred = [np.argmax(pred) for t in pred]\n",
        "#pred"
      ],
      "metadata": {
        "id": "UKYZ2x0Yc0RT"
      },
      "execution_count": 58,
      "outputs": []
    }
  ]
}