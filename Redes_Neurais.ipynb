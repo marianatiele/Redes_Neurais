{
  "nbformat": 4,
  "nbformat_minor": 0,
  "metadata": {
    "colab": {
      "provenance": [],
      "authorship_tag": "ABX9TyNtYGXz3GFI0ROxuA95h6fz",
      "include_colab_link": true
    },
    "kernelspec": {
      "name": "python3",
      "display_name": "Python 3"
    },
    "language_info": {
      "name": "python"
    }
  },
  "cells": [
    {
      "cell_type": "markdown",
      "metadata": {
        "id": "view-in-github",
        "colab_type": "text"
      },
      "source": [
        "<a href=\"https://colab.research.google.com/github/MariaNatiele/Redes_Neurais/blob/main/Redes_Neurais.ipynb\" target=\"_parent\"><img src=\"https://colab.research.google.com/assets/colab-badge.svg\" alt=\"Open In Colab\"/></a>"
      ]
    },
    {
      "cell_type": "markdown",
      "source": [
        "Redes Neurais Artificiais(RNA) com a biblioteca Keras\n",
        "</br>\n",
        "[keras](https://keras.io/api/)"
      ],
      "metadata": {
        "id": "uK1XJ1w1kXac"
      }
    },
    {
      "cell_type": "code",
      "execution_count": 4,
      "metadata": {
        "id": "qax17fMmhyBe"
      },
      "outputs": [],
      "source": [
        "#Bibliotecas\n",
        "from sklearn import datasets\n",
        "from sklearn.model_selection import train_test_split\n",
        "from sklearn.metrics import confusion_matrix\n",
        "from keras.models import Sequential\n",
        "from keras.layers import Dense\n",
        "from keras.utils import np_utils\n",
        "import numpy as np"
      ]
    },
    {
      "cell_type": "code",
      "source": [
        "#importando a base de dados, x previsoes e y classe\n",
        "dados = datasets.load_iris()\n",
        "previsores = dados.data\n",
        "classe = dados.target\n",
        "classe"
      ],
      "metadata": {
        "colab": {
          "base_uri": "https://localhost:8080/"
        },
        "id": "frJmJgX7jXK5",
        "outputId": "0a746348-75d9-4934-cc09-54b3182314ac"
      },
      "execution_count": 8,
      "outputs": [
        {
          "output_type": "execute_result",
          "data": {
            "text/plain": [
              "array([0, 0, 0, 0, 0, 0, 0, 0, 0, 0, 0, 0, 0, 0, 0, 0, 0, 0, 0, 0, 0, 0,\n",
              "       0, 0, 0, 0, 0, 0, 0, 0, 0, 0, 0, 0, 0, 0, 0, 0, 0, 0, 0, 0, 0, 0,\n",
              "       0, 0, 0, 0, 0, 0, 1, 1, 1, 1, 1, 1, 1, 1, 1, 1, 1, 1, 1, 1, 1, 1,\n",
              "       1, 1, 1, 1, 1, 1, 1, 1, 1, 1, 1, 1, 1, 1, 1, 1, 1, 1, 1, 1, 1, 1,\n",
              "       1, 1, 1, 1, 1, 1, 1, 1, 1, 1, 1, 1, 2, 2, 2, 2, 2, 2, 2, 2, 2, 2,\n",
              "       2, 2, 2, 2, 2, 2, 2, 2, 2, 2, 2, 2, 2, 2, 2, 2, 2, 2, 2, 2, 2, 2,\n",
              "       2, 2, 2, 2, 2, 2, 2, 2, 2, 2, 2, 2, 2, 2, 2, 2, 2, 2])"
            ]
          },
          "metadata": {},
          "execution_count": 8
        }
      ]
    },
    {
      "cell_type": "code",
      "source": [
        "#Transformando a classe em dammy -> cada valor vira uma coluna, teremos 3 neurônios de saída\n",
        "classe_dammy = np_utils.to_categorical(classe)\n",
        "#classe_dammy"
      ],
      "metadata": {
        "id": "_abXZ9-_jeqV"
      },
      "execution_count": 10,
      "outputs": []
    },
    {
      "cell_type": "code",
      "source": [
        "#Separação de treino e teste\n",
        "x_treino, x_teste, y_treino, y_teste = train_test_split(previsores, classe_dammy, random_state=0, test_size=0.3)"
      ],
      "metadata": {
        "id": "Rp2RkMFSlrkp"
      },
      "execution_count": 11,
      "outputs": []
    },
    {
      "cell_type": "code",
      "source": [
        "from keras.layers.serialization import activation\n",
        "from keras.layers.core.dense import utils\n",
        "#Criação da estrutura da rede neural com Sequential\n",
        "rede = Sequential()\n",
        "#Primeira camada, 5 neuronio e 4 neuronio de entrada, usamos input_dim = 4 pq tem 4 caracteristicas para prevê a classe\n",
        "rede.add(Dense(units=5, input_dim = 4))\n",
        "#Segunda camada oculta\n",
        "rede.add(Dense(units=5))\n",
        "#Terceira camada oculta\n",
        "#função softmax pq a rede é de 3 camadas\n",
        "rede.add(Dense(units=3, activation='softmax'))"
      ],
      "metadata": {
        "id": "55dcPYiimfE2"
      },
      "execution_count": 14,
      "outputs": []
    },
    {
      "cell_type": "code",
      "source": [
        "#Visualizando um resumo da rede neural\n",
        "rede.summary()"
      ],
      "metadata": {
        "colab": {
          "base_uri": "https://localhost:8080/"
        },
        "id": "QSb2NMJ9pc32",
        "outputId": "72a02e09-9ee9-4c18-9645-70a2aff7badd"
      },
      "execution_count": 15,
      "outputs": [
        {
          "output_type": "stream",
          "name": "stdout",
          "text": [
            "Model: \"sequential_2\"\n",
            "_________________________________________________________________\n",
            " Layer (type)                Output Shape              Param #   \n",
            "=================================================================\n",
            " dense_3 (Dense)             (None, 5)                 25        \n",
            "                                                                 \n",
            " dense_4 (Dense)             (None, 5)                 30        \n",
            "                                                                 \n",
            " dense_5 (Dense)             (None, 3)                 18        \n",
            "                                                                 \n",
            "=================================================================\n",
            "Total params: 73\n",
            "Trainable params: 73\n",
            "Non-trainable params: 0\n",
            "_________________________________________________________________\n"
          ]
        }
      ]
    },
    {
      "cell_type": "code",
      "source": [
        "#Configurando os paremetros da rede adam -> atualizar os pesos e loss -> erros\n",
        "\n",
        "rede.compile(optimizer='adam', loss='categorical_crossentropy', metrics=['accuracy'])"
      ],
      "metadata": {
        "id": "ig1WAMT7qmeY"
      },
      "execution_count": 18,
      "outputs": []
    },
    {
      "cell_type": "code",
      "source": [
        "#Treinando a rede neural\n",
        "rede.fit(x_treino, y_treino, epochs=100, validation_data=(x_teste,y_teste))"
      ],
      "metadata": {
        "colab": {
          "base_uri": "https://localhost:8080/"
        },
        "id": "1vS_bAn3qm2F",
        "outputId": "acde2e1d-6fe8-46a4-d5d8-fc760aec3d15"
      },
      "execution_count": 19,
      "outputs": [
        {
          "output_type": "stream",
          "name": "stdout",
          "text": [
            "Epoch 1/100\n",
            "4/4 [==============================] - 2s 139ms/step - loss: 1.9950 - accuracy: 0.3714 - val_loss: 2.3165 - val_accuracy: 0.2444\n",
            "Epoch 2/100\n",
            "4/4 [==============================] - 0s 23ms/step - loss: 1.8479 - accuracy: 0.3714 - val_loss: 2.1369 - val_accuracy: 0.2444\n",
            "Epoch 3/100\n",
            "4/4 [==============================] - 0s 16ms/step - loss: 1.7259 - accuracy: 0.3714 - val_loss: 1.9619 - val_accuracy: 0.2444\n",
            "Epoch 4/100\n",
            "4/4 [==============================] - 0s 19ms/step - loss: 1.5982 - accuracy: 0.3714 - val_loss: 1.7951 - val_accuracy: 0.2444\n",
            "Epoch 5/100\n",
            "4/4 [==============================] - 0s 25ms/step - loss: 1.4796 - accuracy: 0.3714 - val_loss: 1.6358 - val_accuracy: 0.2444\n",
            "Epoch 6/100\n",
            "4/4 [==============================] - 0s 20ms/step - loss: 1.3719 - accuracy: 0.3714 - val_loss: 1.4888 - val_accuracy: 0.2444\n",
            "Epoch 7/100\n",
            "4/4 [==============================] - 0s 13ms/step - loss: 1.2682 - accuracy: 0.3714 - val_loss: 1.3593 - val_accuracy: 0.2444\n",
            "Epoch 8/100\n",
            "4/4 [==============================] - 0s 18ms/step - loss: 1.1866 - accuracy: 0.3714 - val_loss: 1.2545 - val_accuracy: 0.2444\n",
            "Epoch 9/100\n",
            "4/4 [==============================] - 0s 14ms/step - loss: 1.1219 - accuracy: 0.3714 - val_loss: 1.1723 - val_accuracy: 0.2444\n",
            "Epoch 10/100\n",
            "4/4 [==============================] - 0s 15ms/step - loss: 1.0773 - accuracy: 0.3714 - val_loss: 1.1072 - val_accuracy: 0.2667\n",
            "Epoch 11/100\n",
            "4/4 [==============================] - 0s 13ms/step - loss: 1.0431 - accuracy: 0.3714 - val_loss: 1.0644 - val_accuracy: 0.2667\n",
            "Epoch 12/100\n",
            "4/4 [==============================] - 0s 18ms/step - loss: 1.0262 - accuracy: 0.4000 - val_loss: 1.0360 - val_accuracy: 0.4222\n",
            "Epoch 13/100\n",
            "4/4 [==============================] - 0s 13ms/step - loss: 1.0214 - accuracy: 0.5143 - val_loss: 1.0179 - val_accuracy: 0.6667\n",
            "Epoch 14/100\n",
            "4/4 [==============================] - 0s 13ms/step - loss: 1.0194 - accuracy: 0.6667 - val_loss: 1.0056 - val_accuracy: 0.7556\n",
            "Epoch 15/100\n",
            "4/4 [==============================] - 0s 13ms/step - loss: 1.0113 - accuracy: 0.7333 - val_loss: 0.9998 - val_accuracy: 0.7778\n",
            "Epoch 16/100\n",
            "4/4 [==============================] - 0s 20ms/step - loss: 1.0023 - accuracy: 0.7524 - val_loss: 0.9949 - val_accuracy: 0.7333\n",
            "Epoch 17/100\n",
            "4/4 [==============================] - 0s 18ms/step - loss: 0.9950 - accuracy: 0.7333 - val_loss: 0.9909 - val_accuracy: 0.7333\n",
            "Epoch 18/100\n",
            "4/4 [==============================] - 0s 18ms/step - loss: 0.9867 - accuracy: 0.7429 - val_loss: 0.9855 - val_accuracy: 0.7333\n",
            "Epoch 19/100\n",
            "4/4 [==============================] - 0s 13ms/step - loss: 0.9806 - accuracy: 0.7238 - val_loss: 0.9808 - val_accuracy: 0.6889\n",
            "Epoch 20/100\n",
            "4/4 [==============================] - 0s 13ms/step - loss: 0.9738 - accuracy: 0.7238 - val_loss: 0.9718 - val_accuracy: 0.7111\n",
            "Epoch 21/100\n",
            "4/4 [==============================] - 0s 19ms/step - loss: 0.9670 - accuracy: 0.7238 - val_loss: 0.9616 - val_accuracy: 0.7333\n",
            "Epoch 22/100\n",
            "4/4 [==============================] - 0s 13ms/step - loss: 0.9616 - accuracy: 0.7524 - val_loss: 0.9501 - val_accuracy: 0.7778\n",
            "Epoch 23/100\n",
            "4/4 [==============================] - 0s 14ms/step - loss: 0.9554 - accuracy: 0.8000 - val_loss: 0.9432 - val_accuracy: 0.7778\n",
            "Epoch 24/100\n",
            "4/4 [==============================] - 0s 13ms/step - loss: 0.9497 - accuracy: 0.7905 - val_loss: 0.9384 - val_accuracy: 0.7556\n",
            "Epoch 25/100\n",
            "4/4 [==============================] - 0s 20ms/step - loss: 0.9426 - accuracy: 0.8000 - val_loss: 0.9310 - val_accuracy: 0.7778\n",
            "Epoch 26/100\n",
            "4/4 [==============================] - 0s 12ms/step - loss: 0.9363 - accuracy: 0.7810 - val_loss: 0.9258 - val_accuracy: 0.7556\n",
            "Epoch 27/100\n",
            "4/4 [==============================] - 0s 24ms/step - loss: 0.9299 - accuracy: 0.7714 - val_loss: 0.9212 - val_accuracy: 0.7333\n",
            "Epoch 28/100\n",
            "4/4 [==============================] - 0s 19ms/step - loss: 0.9227 - accuracy: 0.7333 - val_loss: 0.9146 - val_accuracy: 0.7333\n",
            "Epoch 29/100\n",
            "4/4 [==============================] - 0s 13ms/step - loss: 0.9164 - accuracy: 0.7238 - val_loss: 0.9091 - val_accuracy: 0.7333\n",
            "Epoch 30/100\n",
            "4/4 [==============================] - 0s 18ms/step - loss: 0.9098 - accuracy: 0.7238 - val_loss: 0.9046 - val_accuracy: 0.7333\n",
            "Epoch 31/100\n",
            "4/4 [==============================] - 0s 14ms/step - loss: 0.9033 - accuracy: 0.7238 - val_loss: 0.8994 - val_accuracy: 0.7111\n",
            "Epoch 32/100\n",
            "4/4 [==============================] - 0s 13ms/step - loss: 0.8961 - accuracy: 0.7238 - val_loss: 0.8964 - val_accuracy: 0.6444\n",
            "Epoch 33/100\n",
            "4/4 [==============================] - 0s 13ms/step - loss: 0.8919 - accuracy: 0.7048 - val_loss: 0.8963 - val_accuracy: 0.6444\n",
            "Epoch 34/100\n",
            "4/4 [==============================] - 0s 18ms/step - loss: 0.8854 - accuracy: 0.6952 - val_loss: 0.8926 - val_accuracy: 0.6222\n",
            "Epoch 35/100\n",
            "4/4 [==============================] - 0s 13ms/step - loss: 0.8799 - accuracy: 0.6857 - val_loss: 0.8862 - val_accuracy: 0.6222\n",
            "Epoch 36/100\n",
            "4/4 [==============================] - 0s 14ms/step - loss: 0.8717 - accuracy: 0.6857 - val_loss: 0.8724 - val_accuracy: 0.6444\n",
            "Epoch 37/100\n",
            "4/4 [==============================] - 0s 19ms/step - loss: 0.8640 - accuracy: 0.6952 - val_loss: 0.8602 - val_accuracy: 0.6667\n",
            "Epoch 38/100\n",
            "4/4 [==============================] - 0s 13ms/step - loss: 0.8572 - accuracy: 0.7238 - val_loss: 0.8474 - val_accuracy: 0.7333\n",
            "Epoch 39/100\n",
            "4/4 [==============================] - 0s 13ms/step - loss: 0.8505 - accuracy: 0.7143 - val_loss: 0.8402 - val_accuracy: 0.7333\n",
            "Epoch 40/100\n",
            "4/4 [==============================] - 0s 13ms/step - loss: 0.8442 - accuracy: 0.7143 - val_loss: 0.8375 - val_accuracy: 0.7333\n",
            "Epoch 41/100\n",
            "4/4 [==============================] - 0s 18ms/step - loss: 0.8369 - accuracy: 0.7238 - val_loss: 0.8341 - val_accuracy: 0.6667\n",
            "Epoch 42/100\n",
            "4/4 [==============================] - 0s 23ms/step - loss: 0.8300 - accuracy: 0.7048 - val_loss: 0.8304 - val_accuracy: 0.6444\n",
            "Epoch 43/100\n",
            "4/4 [==============================] - 0s 19ms/step - loss: 0.8249 - accuracy: 0.7048 - val_loss: 0.8286 - val_accuracy: 0.6444\n",
            "Epoch 44/100\n",
            "4/4 [==============================] - 0s 29ms/step - loss: 0.8172 - accuracy: 0.7048 - val_loss: 0.8223 - val_accuracy: 0.6444\n",
            "Epoch 45/100\n",
            "4/4 [==============================] - 0s 19ms/step - loss: 0.8110 - accuracy: 0.7048 - val_loss: 0.8171 - val_accuracy: 0.6444\n",
            "Epoch 46/100\n",
            "4/4 [==============================] - 0s 19ms/step - loss: 0.8044 - accuracy: 0.7143 - val_loss: 0.8022 - val_accuracy: 0.6444\n",
            "Epoch 47/100\n",
            "4/4 [==============================] - 0s 16ms/step - loss: 0.7973 - accuracy: 0.7143 - val_loss: 0.7929 - val_accuracy: 0.7111\n",
            "Epoch 48/100\n",
            "4/4 [==============================] - 0s 20ms/step - loss: 0.7910 - accuracy: 0.7238 - val_loss: 0.7844 - val_accuracy: 0.7111\n",
            "Epoch 49/100\n",
            "4/4 [==============================] - 0s 20ms/step - loss: 0.7836 - accuracy: 0.7238 - val_loss: 0.7724 - val_accuracy: 0.7556\n",
            "Epoch 50/100\n",
            "4/4 [==============================] - 0s 22ms/step - loss: 0.7783 - accuracy: 0.7810 - val_loss: 0.7619 - val_accuracy: 0.7778\n",
            "Epoch 51/100\n",
            "4/4 [==============================] - 0s 18ms/step - loss: 0.7713 - accuracy: 0.8000 - val_loss: 0.7555 - val_accuracy: 0.7778\n",
            "Epoch 52/100\n",
            "4/4 [==============================] - 0s 19ms/step - loss: 0.7649 - accuracy: 0.7429 - val_loss: 0.7558 - val_accuracy: 0.7111\n",
            "Epoch 53/100\n",
            "4/4 [==============================] - 0s 23ms/step - loss: 0.7569 - accuracy: 0.7238 - val_loss: 0.7563 - val_accuracy: 0.6444\n",
            "Epoch 54/100\n",
            "4/4 [==============================] - 0s 16ms/step - loss: 0.7499 - accuracy: 0.7143 - val_loss: 0.7537 - val_accuracy: 0.6444\n",
            "Epoch 55/100\n",
            "4/4 [==============================] - 0s 19ms/step - loss: 0.7433 - accuracy: 0.7143 - val_loss: 0.7499 - val_accuracy: 0.6444\n",
            "Epoch 56/100\n",
            "4/4 [==============================] - 0s 19ms/step - loss: 0.7370 - accuracy: 0.7143 - val_loss: 0.7465 - val_accuracy: 0.6222\n",
            "Epoch 57/100\n",
            "4/4 [==============================] - 0s 18ms/step - loss: 0.7326 - accuracy: 0.7048 - val_loss: 0.7463 - val_accuracy: 0.6000\n",
            "Epoch 58/100\n",
            "4/4 [==============================] - 0s 20ms/step - loss: 0.7239 - accuracy: 0.6952 - val_loss: 0.7305 - val_accuracy: 0.6444\n",
            "Epoch 59/100\n",
            "4/4 [==============================] - 0s 12ms/step - loss: 0.7168 - accuracy: 0.7143 - val_loss: 0.7164 - val_accuracy: 0.6889\n",
            "Epoch 60/100\n",
            "4/4 [==============================] - 0s 20ms/step - loss: 0.7108 - accuracy: 0.7333 - val_loss: 0.7050 - val_accuracy: 0.7333\n",
            "Epoch 61/100\n",
            "4/4 [==============================] - 0s 18ms/step - loss: 0.7052 - accuracy: 0.7333 - val_loss: 0.6952 - val_accuracy: 0.7556\n",
            "Epoch 62/100\n",
            "4/4 [==============================] - 0s 13ms/step - loss: 0.6994 - accuracy: 0.7905 - val_loss: 0.6895 - val_accuracy: 0.7556\n",
            "Epoch 63/100\n",
            "4/4 [==============================] - 0s 13ms/step - loss: 0.6932 - accuracy: 0.7619 - val_loss: 0.6878 - val_accuracy: 0.6889\n",
            "Epoch 64/100\n",
            "4/4 [==============================] - 0s 13ms/step - loss: 0.6851 - accuracy: 0.7238 - val_loss: 0.6877 - val_accuracy: 0.6667\n",
            "Epoch 65/100\n",
            "4/4 [==============================] - 0s 13ms/step - loss: 0.6780 - accuracy: 0.7333 - val_loss: 0.6862 - val_accuracy: 0.6444\n",
            "Epoch 66/100\n",
            "4/4 [==============================] - 0s 16ms/step - loss: 0.6721 - accuracy: 0.7238 - val_loss: 0.6824 - val_accuracy: 0.6444\n",
            "Epoch 67/100\n",
            "4/4 [==============================] - 0s 14ms/step - loss: 0.6655 - accuracy: 0.7238 - val_loss: 0.6743 - val_accuracy: 0.6444\n",
            "Epoch 68/100\n",
            "4/4 [==============================] - 0s 13ms/step - loss: 0.6595 - accuracy: 0.7429 - val_loss: 0.6651 - val_accuracy: 0.6667\n",
            "Epoch 69/100\n",
            "4/4 [==============================] - 0s 19ms/step - loss: 0.6527 - accuracy: 0.7524 - val_loss: 0.6618 - val_accuracy: 0.6444\n",
            "Epoch 70/100\n",
            "4/4 [==============================] - 0s 13ms/step - loss: 0.6463 - accuracy: 0.7524 - val_loss: 0.6585 - val_accuracy: 0.6444\n",
            "Epoch 71/100\n",
            "4/4 [==============================] - 0s 18ms/step - loss: 0.6407 - accuracy: 0.7238 - val_loss: 0.6565 - val_accuracy: 0.6222\n",
            "Epoch 72/100\n",
            "4/4 [==============================] - 0s 13ms/step - loss: 0.6345 - accuracy: 0.7333 - val_loss: 0.6487 - val_accuracy: 0.6222\n",
            "Epoch 73/100\n",
            "4/4 [==============================] - 0s 14ms/step - loss: 0.6281 - accuracy: 0.7333 - val_loss: 0.6384 - val_accuracy: 0.6667\n",
            "Epoch 74/100\n",
            "4/4 [==============================] - 0s 15ms/step - loss: 0.6233 - accuracy: 0.7524 - val_loss: 0.6266 - val_accuracy: 0.6889\n",
            "Epoch 75/100\n",
            "4/4 [==============================] - 0s 12ms/step - loss: 0.6174 - accuracy: 0.7619 - val_loss: 0.6180 - val_accuracy: 0.6889\n",
            "Epoch 76/100\n",
            "4/4 [==============================] - 0s 16ms/step - loss: 0.6107 - accuracy: 0.7714 - val_loss: 0.6146 - val_accuracy: 0.6889\n",
            "Epoch 77/100\n",
            "4/4 [==============================] - 0s 13ms/step - loss: 0.6054 - accuracy: 0.7619 - val_loss: 0.6156 - val_accuracy: 0.6667\n",
            "Epoch 78/100\n",
            "4/4 [==============================] - 0s 13ms/step - loss: 0.5991 - accuracy: 0.7714 - val_loss: 0.6125 - val_accuracy: 0.6889\n",
            "Epoch 79/100\n",
            "4/4 [==============================] - 0s 14ms/step - loss: 0.5934 - accuracy: 0.7619 - val_loss: 0.6051 - val_accuracy: 0.7111\n",
            "Epoch 80/100\n",
            "4/4 [==============================] - 0s 13ms/step - loss: 0.5876 - accuracy: 0.7619 - val_loss: 0.6011 - val_accuracy: 0.6889\n",
            "Epoch 81/100\n",
            "4/4 [==============================] - 0s 19ms/step - loss: 0.5830 - accuracy: 0.7714 - val_loss: 0.5989 - val_accuracy: 0.6667\n",
            "Epoch 82/100\n",
            "4/4 [==============================] - 0s 20ms/step - loss: 0.5770 - accuracy: 0.7619 - val_loss: 0.5881 - val_accuracy: 0.7111\n",
            "Epoch 83/100\n",
            "4/4 [==============================] - 0s 18ms/step - loss: 0.5712 - accuracy: 0.7810 - val_loss: 0.5801 - val_accuracy: 0.7111\n",
            "Epoch 84/100\n",
            "4/4 [==============================] - 0s 14ms/step - loss: 0.5663 - accuracy: 0.8095 - val_loss: 0.5741 - val_accuracy: 0.7111\n",
            "Epoch 85/100\n",
            "4/4 [==============================] - 0s 19ms/step - loss: 0.5613 - accuracy: 0.8095 - val_loss: 0.5722 - val_accuracy: 0.7111\n",
            "Epoch 86/100\n",
            "4/4 [==============================] - 0s 18ms/step - loss: 0.5557 - accuracy: 0.8095 - val_loss: 0.5676 - val_accuracy: 0.7111\n",
            "Epoch 87/100\n",
            "4/4 [==============================] - 0s 13ms/step - loss: 0.5509 - accuracy: 0.8095 - val_loss: 0.5651 - val_accuracy: 0.7111\n",
            "Epoch 88/100\n",
            "4/4 [==============================] - 0s 14ms/step - loss: 0.5457 - accuracy: 0.7905 - val_loss: 0.5615 - val_accuracy: 0.7111\n",
            "Epoch 89/100\n",
            "4/4 [==============================] - 0s 18ms/step - loss: 0.5407 - accuracy: 0.7905 - val_loss: 0.5581 - val_accuracy: 0.6889\n",
            "Epoch 90/100\n",
            "4/4 [==============================] - 0s 18ms/step - loss: 0.5358 - accuracy: 0.7810 - val_loss: 0.5556 - val_accuracy: 0.6889\n",
            "Epoch 91/100\n",
            "4/4 [==============================] - 0s 23ms/step - loss: 0.5315 - accuracy: 0.7905 - val_loss: 0.5520 - val_accuracy: 0.7111\n",
            "Epoch 92/100\n",
            "4/4 [==============================] - 0s 19ms/step - loss: 0.5272 - accuracy: 0.7810 - val_loss: 0.5483 - val_accuracy: 0.7111\n",
            "Epoch 93/100\n",
            "4/4 [==============================] - 0s 25ms/step - loss: 0.5218 - accuracy: 0.8095 - val_loss: 0.5365 - val_accuracy: 0.7556\n",
            "Epoch 94/100\n",
            "4/4 [==============================] - 0s 20ms/step - loss: 0.5176 - accuracy: 0.8190 - val_loss: 0.5299 - val_accuracy: 0.7556\n",
            "Epoch 95/100\n",
            "4/4 [==============================] - 0s 15ms/step - loss: 0.5134 - accuracy: 0.8476 - val_loss: 0.5258 - val_accuracy: 0.7556\n",
            "Epoch 96/100\n",
            "4/4 [==============================] - 0s 23ms/step - loss: 0.5091 - accuracy: 0.8476 - val_loss: 0.5211 - val_accuracy: 0.7556\n",
            "Epoch 97/100\n",
            "4/4 [==============================] - 0s 21ms/step - loss: 0.5047 - accuracy: 0.8476 - val_loss: 0.5190 - val_accuracy: 0.7778\n",
            "Epoch 98/100\n",
            "4/4 [==============================] - 0s 23ms/step - loss: 0.5003 - accuracy: 0.8571 - val_loss: 0.5146 - val_accuracy: 0.7778\n",
            "Epoch 99/100\n",
            "4/4 [==============================] - 0s 17ms/step - loss: 0.4960 - accuracy: 0.8476 - val_loss: 0.5142 - val_accuracy: 0.7778\n",
            "Epoch 100/100\n",
            "4/4 [==============================] - 0s 16ms/step - loss: 0.4921 - accuracy: 0.8476 - val_loss: 0.5153 - val_accuracy: 0.7556\n"
          ]
        },
        {
          "output_type": "execute_result",
          "data": {
            "text/plain": [
              "<keras.callbacks.History at 0x7ba311267c70>"
            ]
          },
          "metadata": {},
          "execution_count": 19
        }
      ]
    },
    {
      "cell_type": "code",
      "source": [
        "#Previsão\n",
        "previsao = rede.predict(x_teste)\n",
        "previsao = (previsao > 0.5)\n",
        "previsao"
      ],
      "metadata": {
        "colab": {
          "base_uri": "https://localhost:8080/"
        },
        "id": "LiyluouMtk78",
        "outputId": "69d70087-c196-49a3-f406-57ea60031570"
      },
      "execution_count": 20,
      "outputs": [
        {
          "output_type": "stream",
          "name": "stdout",
          "text": [
            "2/2 [==============================] - 0s 7ms/step\n"
          ]
        },
        {
          "output_type": "execute_result",
          "data": {
            "text/plain": [
              "array([[False, False,  True],\n",
              "       [False,  True, False],\n",
              "       [ True, False, False],\n",
              "       [False, False,  True],\n",
              "       [ True, False, False],\n",
              "       [False, False,  True],\n",
              "       [ True, False, False],\n",
              "       [False, False, False],\n",
              "       [False, False, False],\n",
              "       [False, False, False],\n",
              "       [False, False,  True],\n",
              "       [False, False, False],\n",
              "       [False, False, False],\n",
              "       [False, False, False],\n",
              "       [False, False,  True],\n",
              "       [ True, False, False],\n",
              "       [False, False,  True],\n",
              "       [False, False, False],\n",
              "       [ True, False, False],\n",
              "       [ True, False, False],\n",
              "       [False, False,  True],\n",
              "       [False, False,  True],\n",
              "       [ True, False, False],\n",
              "       [ True, False, False],\n",
              "       [False, False,  True],\n",
              "       [ True, False, False],\n",
              "       [ True, False, False],\n",
              "       [False, False, False],\n",
              "       [False, False, False],\n",
              "       [ True, False, False],\n",
              "       [False, False,  True],\n",
              "       [False, False,  True],\n",
              "       [ True, False, False],\n",
              "       [False, False,  True],\n",
              "       [False, False,  True],\n",
              "       [False, False,  True],\n",
              "       [ True, False, False],\n",
              "       [False, False,  True],\n",
              "       [False, False, False],\n",
              "       [False, False, False],\n",
              "       [False, False,  True],\n",
              "       [ True, False, False],\n",
              "       [False, False,  True],\n",
              "       [ True, False, False],\n",
              "       [ True, False, False]])"
            ]
          },
          "metadata": {},
          "execution_count": 20
        }
      ]
    },
    {
      "cell_type": "code",
      "source": [
        "#\n",
        "y_teste_matrix = [np.argmax(t) for t in y_teste]\n",
        "y_previsao_matrix = [np.argmax(i) for i in previsao]"
      ],
      "metadata": {
        "id": "jt6_av1UtlYY"
      },
      "execution_count": 23,
      "outputs": []
    },
    {
      "cell_type": "code",
      "source": [
        "#Matriz de confusão\n",
        "matriz = confusion_matrix(y_teste_matrix, y_previsao_matrix)\n",
        "matriz"
      ],
      "metadata": {
        "colab": {
          "base_uri": "https://localhost:8080/"
        },
        "id": "_NWf9CJNqnAz",
        "outputId": "817dfee2-a1a2-4fd9-c803-92daadf9ee00"
      },
      "execution_count": 24,
      "outputs": [
        {
          "output_type": "execute_result",
          "data": {
            "text/plain": [
              "array([[16,  0,  0],\n",
              "       [11,  1,  6],\n",
              "       [ 0,  0, 11]])"
            ]
          },
          "metadata": {},
          "execution_count": 24
        }
      ]
    }
  ]
}